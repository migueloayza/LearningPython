{
 "cells": [
  {
   "cell_type": "markdown",
   "metadata": {},
   "source": [
    "## What is symbolic computation?\n",
    "\n",
    "\"Symbolic computation deals with the computation of mathematical objects symbolically. This means that the mathematical objects are represented exactly, not approximately, and mathematical expressions with unevaluated variables are left in symbolic form.\"\n",
    "\n",
    "- [SymPy Documentation](https://docs.sympy.org/latest/tutorial/intro.html)"
   ]
  },
  {
   "cell_type": "markdown",
   "metadata": {},
   "source": [
    "### A More Interesting Example"
   ]
  },
  {
   "cell_type": "code",
   "execution_count": 1,
   "metadata": {},
   "outputs": [],
   "source": [
    "from sympy import *\n",
    "init_printing()"
   ]
  },
  {
   "cell_type": "code",
   "execution_count": 2,
   "metadata": {},
   "outputs": [
    {
     "data": {
      "image/png": "[encoded data removed]",
      "text/latex": [
       "$\\displaystyle x + 2 y$"
      ],
      "text/plain": [
       "x + 2⋅y"
      ]
     },
     "execution_count": 2,
     "metadata": {},
     "output_type": "execute_result"
    }
   ],
   "source": [
    "#Definimos los símbolos (SymPy) 'x' e 'y' y los definimos en las \n",
    "#variables (Python) 'x' e 'y'\n",
    "x,y=symbols('x y')\n",
    "\n",
    "expr=x+2*y\n",
    "expr"
   ]
  },
  {
   "cell_type": "code",
   "execution_count": 3,
   "metadata": {},
   "outputs": [
    {
     "data": {
      "text/plain": [
       "sympy.core.symbol.Symbol"
      ]
     },
     "execution_count": 3,
     "metadata": {},
     "output_type": "execute_result"
    }
   ],
   "source": [
    "type(x)"
   ]
  },
  {
   "cell_type": "code",
   "execution_count": 4,
   "metadata": {},
   "outputs": [
    {
     "data": {
      "image/png": "[encoded data removed]",
      "text/latex": [
       "$\\displaystyle x + 2 y + 1$"
      ],
      "text/plain": [
       "x + 2⋅y + 1"
      ]
     },
     "execution_count": 4,
     "metadata": {},
     "output_type": "execute_result"
    }
   ],
   "source": [
    "expr+1"
   ]
  },
  {
   "cell_type": "code",
   "execution_count": 5,
   "metadata": {},
   "outputs": [
    {
     "data": {
      "image/png": "[encoded data removed]",
      "text/latex": [
       "$\\displaystyle 2 y$"
      ],
      "text/plain": [
       "2⋅y"
      ]
     },
     "execution_count": 5,
     "metadata": {},
     "output_type": "execute_result"
    }
   ],
   "source": [
    "expr-x"
   ]
  },
  {
   "cell_type": "code",
   "execution_count": 6,
   "metadata": {},
   "outputs": [
    {
     "data": {
      "image/png": "[encoded data removed]",
      "text/latex": [
       "$\\displaystyle x \\left(x + 2 y\\right)$"
      ],
      "text/plain": [
       "x⋅(x + 2⋅y)"
      ]
     },
     "execution_count": 6,
     "metadata": {},
     "output_type": "execute_result"
    }
   ],
   "source": [
    "#No expande automáticamente\n",
    "x*expr"
   ]
  },
  {
   "cell_type": "code",
   "execution_count": 7,
   "metadata": {},
   "outputs": [
    {
     "data": {
      "image/png": "[encoded data removed]",
      "text/latex": [
       "$\\displaystyle x^{2} + 2 x y$"
      ],
      "text/plain": [
       " 2        \n",
       "x  + 2⋅x⋅y"
      ]
     },
     "execution_count": 7,
     "metadata": {},
     "output_type": "execute_result"
    }
   ],
   "source": [
    "#Podemos expandir una expresión o factorizarla de la siguiente forma+\n",
    "from sympy import expand, factor\n",
    "expanded_expr=expand(x*expr)\n",
    "expanded_expr"
   ]
  },
  {
   "cell_type": "code",
   "execution_count": 8,
   "metadata": {},
   "outputs": [
    {
     "data": {
      "image/png": "[encoded data removed]",
      "text/latex": [
       "$\\displaystyle x \\left(x + 2 y\\right)$"
      ],
      "text/plain": [
       "x⋅(x + 2⋅y)"
      ]
     },
     "execution_count": 8,
     "metadata": {},
     "output_type": "execute_result"
    }
   ],
   "source": [
    "factor_expr=factor(expanded_expr)\n",
    "factor_expr"
   ]
  },
  {
   "cell_type": "markdown",
   "metadata": {},
   "source": [
    "### The Power of Symbolic Computation"
   ]
  },
  {
   "cell_type": "code",
   "execution_count": 9,
   "metadata": {},
   "outputs": [],
   "source": [
    "x,t,z,nu=symbols('x t z nu')"
   ]
  },
  {
   "cell_type": "code",
   "execution_count": 10,
   "metadata": {},
   "outputs": [
    {
     "data": {
      "image/png": "[encoded data removed]",
      "text/latex": [
       "$\\displaystyle - 2 \\sin{\\left(x^{2} \\right)} - \\frac{\\cos{\\left(x^{2} \\right)}}{x^{2}}$"
      ],
      "text/plain": [
       "                 ⎛ 2⎞\n",
       "       ⎛ 2⎞   cos⎝x ⎠\n",
       "- 2⋅sin⎝x ⎠ - ───────\n",
       "                  2  \n",
       "                 x   "
      ]
     },
     "execution_count": 10,
     "metadata": {},
     "output_type": "execute_result"
    }
   ],
   "source": [
    "#Tomamos la derivsada de cos(x**2)/x\n",
    "diff(cos(x**2)/x,x)"
   ]
  },
  {
   "cell_type": "code",
   "execution_count": 11,
   "metadata": {},
   "outputs": [
    {
     "name": "stdout",
     "output_type": "stream",
     "text": [
      "-2*sin(x**2) - cos(x**2)/x**2\n"
     ]
    }
   ],
   "source": [
    "#Podemos ver la versión simbólica de output anterior usando \n",
    "#la función print()\n",
    "print(_)"
   ]
  },
  {
   "cell_type": "code",
   "execution_count": 12,
   "metadata": {},
   "outputs": [
    {
     "data": {
      "image/png": "[encoded data removed]",
      "text/latex": [
       "$\\displaystyle e^{x} \\sin{\\left(x \\right)}$"
      ],
      "text/plain": [
       " x       \n",
       "ℯ ⋅sin(x)"
      ]
     },
     "execution_count": 12,
     "metadata": {},
     "output_type": "execute_result"
    }
   ],
   "source": [
    "#Calculemos la integral de exp(x)*sin(x)+exp(x)*cos(x)\n",
    "integrate(exp(x)*sin(x)+exp(x)*cos(x),x)"
   ]
  },
  {
   "cell_type": "code",
   "execution_count": 13,
   "metadata": {},
   "outputs": [
    {
     "data": {
      "image/png": "[encoded data removed]",
      "text/latex": [
       "$\\displaystyle \\sqrt{\\pi}$"
      ],
      "text/plain": [
       "√π"
      ]
     },
     "execution_count": 13,
     "metadata": {},
     "output_type": "execute_result"
    }
   ],
   "source": [
    "#Calculemos la integral de exp(-x**2) desde -oo hatsta +oo\n",
    "integrate(exp(-x**2),(x,-oo,+oo))"
   ]
  },
  {
   "cell_type": "code",
   "execution_count": 14,
   "metadata": {
    "scrolled": false
   },
   "outputs": [
    {
     "data": {
      "image/png": "[encoded data removed]",
      "text/latex": [
       "$\\displaystyle \\cos{\\left(x \\right)}$"
      ],
      "text/plain": [
       "cos(x)"
      ]
     },
     "execution_count": 14,
     "metadata": {},
     "output_type": "execute_result"
    }
   ],
   "source": [
    "#Calcular el límite de (sin(x+t)-sin(x))/t cuando t va a 0\n",
    "limit((sin(x+t)-sin(x))/t,t,0)"
   ]
  },
  {
   "cell_type": "code",
   "execution_count": 15,
   "metadata": {},
   "outputs": [
    {
     "data": {
      "image/png": "[encoded data removed]",
      "text/latex": [
       "$\\displaystyle - \\sin{\\left(x \\right)}$"
      ],
      "text/plain": [
       "-sin(x)"
      ]
     },
     "execution_count": 15,
     "metadata": {},
     "output_type": "execute_result"
    }
   ],
   "source": [
    "#De igual forma\n",
    "limit((cos(x+t)-cos(x))/t,t,0)"
   ]
  },
  {
   "cell_type": "code",
   "execution_count": 16,
   "metadata": {
    "scrolled": true
   },
   "outputs": [
    {
     "data": {
      "image/png": "[encoded data removed]",
      "text/latex": [
       "$\\displaystyle \\frac{\\left|{\\sin{\\left(x \\right)}}\\right|}{\\sin{\\left(x \\right)}}$"
      ],
      "text/plain": [
       "│sin(x)│\n",
       "────────\n",
       " sin(x) "
      ]
     },
     "execution_count": 16,
     "metadata": {},
     "output_type": "execute_result"
    }
   ],
   "source": [
    "#Por defecto el límite se toma por la derecha. \n",
    "#Por ejemplo, calculemos el límite cuando 'x' va a cero,\n",
    "#luego por la derecha e izquierda de la siguiente expresión\n",
    "\n",
    "abs(sin(x))/sin(x)"
   ]
  },
  {
   "cell_type": "code",
   "execution_count": 17,
   "metadata": {},
   "outputs": [
    {
     "data": {
      "image/png": "[encoded data removed]",
      "text/latex": [
       "$\\displaystyle 1$"
      ],
      "text/plain": [
       "1"
      ]
     },
     "execution_count": 17,
     "metadata": {},
     "output_type": "execute_result"
    }
   ],
   "source": [
    "limit(_,x,0)"
   ]
  },
  {
   "cell_type": "code",
   "execution_count": 18,
   "metadata": {
    "scrolled": true
   },
   "outputs": [
    {
     "data": {
      "image/png": "[encoded data removed]",
      "text/latex": [
       "$\\displaystyle 1$"
      ],
      "text/plain": [
       "1"
      ]
     },
     "execution_count": 18,
     "metadata": {},
     "output_type": "execute_result"
    }
   ],
   "source": [
    "limit(abs(sin(x))/sin(x),x,0,'+')"
   ]
  },
  {
   "cell_type": "code",
   "execution_count": 19,
   "metadata": {},
   "outputs": [
    {
     "data": {
      "image/png": "[encoded data removed]",
      "text/latex": [
       "$\\displaystyle -1$"
      ],
      "text/plain": [
       "-1"
      ]
     },
     "execution_count": 19,
     "metadata": {},
     "output_type": "execute_result"
    }
   ],
   "source": [
    "limit(abs(sin(x))/sin(x),x,0,'-')"
   ]
  },
  {
   "cell_type": "code",
   "execution_count": 20,
   "metadata": {
    "scrolled": true
   },
   "outputs": [
    {
     "data": {
      "image/png": "[encoded data removed]",
      "text/latex": [
       "$\\displaystyle \\iint \\sin{\\left(\\nu \\right)} \\cos{\\left(z \\right)}\\, dz\\, d\\nu$"
      ],
      "text/plain": [
       "⌠ ⌠                    \n",
       "⎮ ⎮ sin(ν)⋅cos(z) dz dν\n",
       "⌡ ⌡                    "
      ]
     },
     "execution_count": 20,
     "metadata": {},
     "output_type": "execute_result"
    }
   ],
   "source": [
    "#También podemos imprimir las expresiones que vamos a computar\n",
    "Integral(cos(z)*sin(nu),z,nu)"
   ]
  },
  {
   "cell_type": "code",
   "execution_count": 21,
   "metadata": {},
   "outputs": [],
   "source": [
    "r,phi,theta,R=symbols('r phi theta R')"
   ]
  },
  {
   "cell_type": "code",
   "execution_count": 22,
   "metadata": {
    "scrolled": true
   },
   "outputs": [
    {
     "data": {
      "image/png": "[encoded data removed]",
      "text/latex": [
       "$\\displaystyle \\int\\limits_{0}^{R}\\int\\limits_{0}^{2 \\pi}\\int\\limits_{0}^{\\pi} r^{2} \\sin{\\left(\\theta \\right)}\\, d\\theta\\, d\\phi\\, dr$"
      ],
      "text/plain": [
       "R 2⋅π π                   \n",
       "⌠  ⌠  ⌠                   \n",
       "⎮  ⎮  ⎮  2                \n",
       "⎮  ⎮  ⎮ r ⋅sin(θ) dθ dφ dr\n",
       "⌡  ⌡  ⌡                   \n",
       "0  0  0                   "
      ]
     },
     "execution_count": 22,
     "metadata": {},
     "output_type": "execute_result"
    }
   ],
   "source": [
    "Integral(r**2*sin(theta),(theta,0,pi),(phi,0,2*pi),(r,0,R))"
   ]
  },
  {
   "cell_type": "code",
   "execution_count": 23,
   "metadata": {},
   "outputs": [
    {
     "data": {
      "image/png": "[encoded data removed]",
      "text/latex": [
       "$\\displaystyle \\frac{4 \\pi R^{3}}{3}$"
      ],
      "text/plain": [
       "     3\n",
       "4⋅π⋅R \n",
       "──────\n",
       "  3   "
      ]
     },
     "execution_count": 23,
     "metadata": {},
     "output_type": "execute_result"
    }
   ],
   "source": [
    "integrate(r**2*sin(theta),(theta,0,pi),(phi,0,2*pi),(r,0,R))"
   ]
  },
  {
   "cell_type": "code",
   "execution_count": 24,
   "metadata": {},
   "outputs": [
    {
     "data": {
      "image/png": "[encoded data removed]",
      "text/latex": [
       "$\\displaystyle \\lim_{t \\to 5^+} e^{\\cos{\\left(t^{2} \\right)}}$"
      ],
      "text/plain": [
       "         ⎛ 2⎞\n",
       "      cos⎝t ⎠\n",
       " lim ℯ       \n",
       "t─→5⁺        "
      ]
     },
     "execution_count": 24,
     "metadata": {},
     "output_type": "execute_result"
    }
   ],
   "source": [
    "Limit(exp(cos(t**2)),t,5,'+')"
   ]
  },
  {
   "cell_type": "code",
   "execution_count": 25,
   "metadata": {},
   "outputs": [],
   "source": [
    "#Podemos resolver ecuaciones introduciendo en el código la expresión\n",
    "#que es igual a cero. Por ejemplo, resolvamos la siguiente expresión"
   ]
  },
  {
   "cell_type": "markdown",
   "metadata": {},
   "source": [
    "$x^2-2=0\\quad\\quad\\quad\\quad(1)$"
   ]
  },
  {
   "cell_type": "code",
   "execution_count": 26,
   "metadata": {},
   "outputs": [
    {
     "data": {
      "image/png": "[encoded data removed]",
      "text/latex": [
       "$\\displaystyle \\left[ - \\sqrt{2}, \\  \\sqrt{2}\\right]$"
      ],
      "text/plain": [
       "[-√2, √2]"
      ]
     },
     "execution_count": 26,
     "metadata": {},
     "output_type": "execute_result"
    }
   ],
   "source": [
    "solve(x**2-2,x)"
   ]
  },
  {
   "cell_type": "code",
   "execution_count": 27,
   "metadata": {},
   "outputs": [],
   "source": [
    "#Otra forma de igualar la parte izqueirda y derecha de la ecuación (1)\n",
    "#es mediante la instrucción 'Eq()'"
   ]
  },
  {
   "cell_type": "code",
   "execution_count": 28,
   "metadata": {},
   "outputs": [
    {
     "data": {
      "image/png": "[encoded data removed]",
      "text/latex": [
       "$\\displaystyle x^{2} - 2 = 0$"
      ],
      "text/plain": [
       " 2        \n",
       "x  - 2 = 0"
      ]
     },
     "execution_count": 28,
     "metadata": {},
     "output_type": "execute_result"
    }
   ],
   "source": [
    "Eq(x**2-2,0)"
   ]
  },
  {
   "cell_type": "code",
   "execution_count": 29,
   "metadata": {},
   "outputs": [
    {
     "data": {
      "image/png": "[encoded data removed]",
      "text/latex": [
       "$\\displaystyle \\left[ - \\sqrt{2}, \\  \\sqrt{2}\\right]$"
      ],
      "text/plain": [
       "[-√2, √2]"
      ]
     },
     "execution_count": 29,
     "metadata": {},
     "output_type": "execute_result"
    }
   ],
   "source": [
    "solve(_,x)"
   ]
  },
  {
   "cell_type": "code",
   "execution_count": 30,
   "metadata": {},
   "outputs": [],
   "source": [
    "#Resolvamos la siguiente ecuación diferencial"
   ]
  },
  {
   "cell_type": "markdown",
   "metadata": {},
   "source": [
    "$y''-y=e^t\\quad\\quad\\quad\\quad(2)$"
   ]
  },
  {
   "cell_type": "code",
   "execution_count": 31,
   "metadata": {
    "scrolled": true
   },
   "outputs": [
    {
     "data": {
      "image/png": "[encoded data removed]",
      "text/latex": [
       "$\\displaystyle \\frac{d}{d t} y{\\left(t \\right)}$"
      ],
      "text/plain": [
       "d       \n",
       "──(y(t))\n",
       "dt      "
      ]
     },
     "execution_count": 31,
     "metadata": {},
     "output_type": "execute_result"
    }
   ],
   "source": [
    "#Primero definimos 'y' como una función y a continuación establecemos\n",
    "#su argumento\n",
    "y=Function('y')\n",
    "\n",
    "#Ahora aplicamos la primera derivada\n",
    "y(t).diff(t)"
   ]
  },
  {
   "cell_type": "code",
   "execution_count": 32,
   "metadata": {},
   "outputs": [
    {
     "data": {
      "image/png": "[encoded data removed]",
      "text/latex": [
       "$\\displaystyle \\frac{d^{2}}{d t^{2}} y{\\left(t \\right)}$"
      ],
      "text/plain": [
       "  2      \n",
       " d       \n",
       "───(y(t))\n",
       "  2      \n",
       "dt       "
      ]
     },
     "execution_count": 32,
     "metadata": {},
     "output_type": "execute_result"
    }
   ],
   "source": [
    "#Ahora aplicamos la segunda derivada\n",
    "y(t).diff(t,t)"
   ]
  },
  {
   "cell_type": "code",
   "execution_count": 33,
   "metadata": {},
   "outputs": [
    {
     "name": "stdout",
     "output_type": "stream",
     "text": [
      "Derivative(y(t), (t, 2))\n"
     ]
    }
   ],
   "source": [
    "#Veamos el código simbólico\n",
    "print(_)"
   ]
  },
  {
   "cell_type": "code",
   "execution_count": 34,
   "metadata": {
    "scrolled": false
   },
   "outputs": [
    {
     "data": {
      "image/png": "[encoded data removed]",
      "text/latex": [
       "$\\displaystyle y{\\left(t \\right)} = C_{2} e^{- t} + \\left(C_{1} + \\frac{t}{2}\\right) e^{t}$"
      ],
      "text/plain": [
       "           -t   ⎛     t⎞  t\n",
       "y(t) = C₂⋅ℯ   + ⎜C₁ + ─⎟⋅ℯ \n",
       "                ⎝     2⎠   "
      ]
     },
     "execution_count": 34,
     "metadata": {},
     "output_type": "execute_result"
    }
   ],
   "source": [
    "#Ahora sí, a resolver la ecuación diferencial usando 'Eq()'\n",
    "dsolve(Eq(y(t).diff(t,t)-y(t),exp(t)),y(t))"
   ]
  },
  {
   "cell_type": "code",
   "execution_count": 35,
   "metadata": {
    "scrolled": false
   },
   "outputs": [
    {
     "data": {
      "image/png": "[encoded data removed]",
      "text/latex": [
       "$\\displaystyle 4 t \\frac{d^{2}}{d t^{2}} y{\\left(t \\right)} - y{\\left(t \\right)} + \\frac{d}{d t} y{\\left(t \\right)} = 0$"
      ],
      "text/plain": [
       "      2                            \n",
       "     d                 d           \n",
       "4⋅t⋅───(y(t)) - y(t) + ──(y(t)) = 0\n",
       "      2                dt          \n",
       "    dt                             "
      ]
     },
     "execution_count": 35,
     "metadata": {},
     "output_type": "execute_result"
    }
   ],
   "source": [
    "Eq(4*t*y(t).diff(t,t)+y(t).diff(t)-y(t),0)"
   ]
  },
  {
   "cell_type": "code",
   "execution_count": 36,
   "metadata": {},
   "outputs": [
    {
     "data": {
      "image/png": "[encoded data removed]",
      "text/latex": [
       "$\\displaystyle y{\\left(t \\right)} = t^{\\frac{3}{8}} \\left(C_{1} J_{\\frac{3}{4}}\\left(i \\sqrt{t}\\right) + C_{2} Y_{\\frac{3}{4}}\\left(i \\sqrt{t}\\right)\\right)$"
      ],
      "text/plain": [
       "        3/8                                                \n",
       "y(t) = t   ⋅(C₁⋅besselj(3/4, ⅈ⋅√t) + C₂⋅bessely(3/4, ⅈ⋅√t))"
      ]
     },
     "execution_count": 36,
     "metadata": {},
     "output_type": "execute_result"
    }
   ],
   "source": [
    "dsolve(_)"
   ]
  },
  {
   "cell_type": "code",
   "execution_count": 37,
   "metadata": {},
   "outputs": [
    {
     "name": "stdout",
     "output_type": "stream",
     "text": [
      "y{\\left(t \\right)} = t^{\\frac{3}{8}} \\left(C_{1} J_{\\frac{3}{4}}\\left(i \\sqrt{t}\\right) + C_{2} Y_{\\frac{3}{4}}\\left(i \\sqrt{t}\\right)\\right)\n"
     ]
    }
   ],
   "source": [
    "print(latex(_))"
   ]
  },
  {
   "cell_type": "code",
   "execution_count": 38,
   "metadata": {},
   "outputs": [],
   "source": [
    "#Calculemos los autovalores de la siguiente matriz"
   ]
  },
  {
   "cell_type": "markdown",
   "metadata": {},
   "source": [
    "$\\begin{pmatrix}\n",
    "0 & -i\\\\\n",
    "i & 0\n",
    "\\end{pmatrix}\n",
    "$"
   ]
  },
  {
   "cell_type": "code",
   "execution_count": 39,
   "metadata": {},
   "outputs": [
    {
     "data": {
      "image/png": "[encoded data removed]",
      "text/latex": [
       "$\\displaystyle \\left\\{ -1 : 1, \\  1 : 1\\right\\}$"
      ],
      "text/plain": [
       "{-1: 1, 1: 1}"
      ]
     },
     "execution_count": 39,
     "metadata": {},
     "output_type": "execute_result"
    }
   ],
   "source": [
    "Matrix([[0,-I],[I,0]]).eigenvals()\n",
    "#En el resultado tenemos un diccionario donde el 'key' es el autovalor\n",
    "#y el 'value' es la multiplicidad"
   ]
  },
  {
   "cell_type": "code",
   "execution_count": 40,
   "metadata": {},
   "outputs": [
    {
     "data": {
      "image/png": "[encoded data removed]",
      "text/latex": [
       "$\\displaystyle \\int\\limits_{0}^{\\pi} \\cos^{2}{\\left(x \\right)}\\, dx$"
      ],
      "text/plain": [
       "π           \n",
       "⌠           \n",
       "⎮    2      \n",
       "⎮ cos (x) dx\n",
       "⌡           \n",
       "0           "
      ]
     },
     "execution_count": 40,
     "metadata": {},
     "output_type": "execute_result"
    }
   ],
   "source": [
    "#Por úñtimo podemos imprimir en código LaTeX para poder copiar\n",
    "#directamente a nuestro documento. Para ello usamos 'print()' y 'latex()'\n",
    "Integral(cos(x)**2, (x, 0, pi))\n"
   ]
  },
  {
   "cell_type": "code",
   "execution_count": 41,
   "metadata": {},
   "outputs": [
    {
     "name": "stdout",
     "output_type": "stream",
     "text": [
      "\\int\\limits_{0}^{\\pi} \\cos^{2}{\\left(x \\right)}\\, dx\n"
     ]
    }
   ],
   "source": [
    "print(latex(_))"
   ]
  },
  {
   "cell_type": "code",
   "execution_count": 42,
   "metadata": {},
   "outputs": [
    {
     "name": "stdout",
     "output_type": "stream",
     "text": [
      "Integral(cos(x)**2, (x, 0, pi))\n"
     ]
    }
   ],
   "source": [
    "print(Integral(cos(x)**2, (x, 0, pi)))"
   ]
  }
 ],
 "metadata": {
  "kernelspec": {
   "display_name": "Python 3",
   "language": "python",
   "name": "python3"
  },
  "language_info": {
   "codemirror_mode": {
    "name": "ipython",
    "version": 3
   },
   "file_extension": ".py",
   "mimetype": "text/x-python",
   "name": "python",
   "nbconvert_exporter": "python",
   "pygments_lexer": "ipython3",
   "version": "3.8.3"
  }
 },
 "nbformat": 4,
 "nbformat_minor": 4
}
