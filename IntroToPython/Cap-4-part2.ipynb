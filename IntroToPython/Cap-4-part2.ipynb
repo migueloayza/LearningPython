{
 "cells": [
  {
   "cell_type": "markdown",
   "metadata": {},
   "source": [
    "### 4.2. for Statements"
   ]
  },
  {
   "cell_type": "code",
   "execution_count": 1,
   "metadata": {},
   "outputs": [],
   "source": [
    "#Estructura:\n",
    "#for variable in elemento_a_recorrer:   \n",
    "#\t   cuerpo del bucle"
   ]
  },
  {
   "cell_type": "code",
   "execution_count": 2,
   "metadata": {},
   "outputs": [
    {
     "name": "stdout",
     "output_type": "stream",
     "text": [
      "K\n",
      "i\n",
      "a\n",
      "-\n",
      "P\n",
      "i\n",
      "c\n",
      "a\n",
      "n\n",
      "t\n",
      "o\n"
     ]
    }
   ],
   "source": [
    "#La instrucción 'for' itera sobre los indices de las variables\n",
    "#definidas, que pueden ser cadenas o listas\n",
    "\n",
    "auto='Kia-Picanto'\n",
    "\n",
    "for x in auto:\n",
    "    print(x)"
   ]
  },
  {
   "cell_type": "code",
   "execution_count": 3,
   "metadata": {},
   "outputs": [
    {
     "name": "stdout",
     "output_type": "stream",
     "text": [
      "kia 3\n",
      "toyota 6\n",
      "nissan 6\n"
     ]
    }
   ],
   "source": [
    "car=['kia','toyota','nissan']\n",
    "\n",
    "for i in car:\n",
    "    print(i,len(i))"
   ]
  },
  {
   "cell_type": "code",
   "execution_count": 4,
   "metadata": {},
   "outputs": [
    {
     "name": "stdout",
     "output_type": "stream",
     "text": [
      "k\n",
      "i\n",
      "a\n",
      "t\n",
      "o\n",
      "y\n",
      "o\n",
      "t\n",
      "a\n",
      "n\n",
      "i\n",
      "s\n",
      "s\n",
      "a\n",
      "n\n"
     ]
    }
   ],
   "source": [
    "for i in car:\n",
    "    for j in i:\n",
    "        print(j)"
   ]
  },
  {
   "cell_type": "code",
   "execution_count": 5,
   "metadata": {
    "scrolled": true
   },
   "outputs": [
    {
     "name": "stdout",
     "output_type": "stream",
     "text": [
      "tu mamá calata 7\n",
      "tu mamá calata 2\n",
      "tu mamá calata 9\n",
      "tu mamá calata 4\n"
     ]
    }
   ],
   "source": [
    "for j in [7,2,9,4]:\n",
    "    print('tu mamá calata',j)"
   ]
  },
  {
   "cell_type": "code",
   "execution_count": 6,
   "metadata": {},
   "outputs": [
    {
     "name": "stdout",
     "output_type": "stream",
     "text": [
      "may may may may "
     ]
    }
   ],
   "source": [
    "for n in \"1234\":\n",
    "    print(\"may\", end=\" \")"
   ]
  },
  {
   "cell_type": "code",
   "execution_count": 7,
   "metadata": {},
   "outputs": [
    {
     "name": "stdout",
     "output_type": "stream",
     "text": [
      "Introduce tu correo: luisloro@\n",
      "True <class 'bool'>\n",
      "Correcto\n"
     ]
    }
   ],
   "source": [
    "#Crearemos un programa que verifique si hemos usado o no\n",
    "#el símbolo @ en un correo electrónico\n",
    "\n",
    "email=input('Introduce tu correo: ')\n",
    "\n",
    "for m in email:\n",
    "    if m=='@':\n",
    "        email=True #Aquí estamos reescribiendo la variable a un valor booleano\n",
    "\n",
    "print(email,type(email))\n",
    "if email==True:\n",
    "    print('Correcto')\n",
    "else:\n",
    "    print('Incorrecto')"
   ]
  },
  {
   "cell_type": "code",
   "execution_count": 8,
   "metadata": {
    "scrolled": false
   },
   "outputs": [
    {
     "name": "stdout",
     "output_type": "stream",
     "text": [
      "# elementos: 4\n",
      "Ingresa valor: 1\n",
      "Ingresa valor: 3\n",
      "Ingresa valor: 5\n",
      "Ingresa valor: 8\n",
      "['1', '3', '5', '8']\n"
     ]
    }
   ],
   "source": [
    "#Debemos crear un programa donde ingresaremos el número de\n",
    "#elementos de una lista, y luego ingresaremos cada uno de dichos\n",
    "#elementos\n",
    "\n",
    "#Gustavo\n",
    "n_lista=[]\n",
    "\n",
    "num_e=int(input('# elementos: '))\n",
    "i=1\n",
    "\n",
    "while i <=num_e:\n",
    "    j=input('Ingresa valor: ')\n",
    "    n_lista.append(j)\n",
    "    i=i+1\n",
    "print(n_lista)"
   ]
  },
  {
   "cell_type": "code",
   "execution_count": 9,
   "metadata": {
    "scrolled": true
   },
   "outputs": [
    {
     "name": "stdout",
     "output_type": "stream",
     "text": [
      "cantidad de datos: 5\n",
      "Dime el dato numero 1: 1\n",
      "Dime el dato numero 2: 23\n",
      "Dime el dato numero 3: 6\n",
      "Dime el dato numero 4: 8\n",
      "Dime el dato numero 5: 9\n",
      "dime el numero a buscar: 12\n",
      "si esta \n"
     ]
    }
   ],
   "source": [
    "#Alexis\n",
    "j=int(input('cantidad de datos: '))\n",
    "datos = [0 for x in range(j)]\n",
    "for i in range(0,len(datos)):\n",
    "    datos[i] = int( input( \"Dime el dato numero {}: \".format(i+1) ))\n",
    "y=int(input('dime el numero a buscar: '))    \n",
    "for y in datos:\n",
    "    if y==datos[i]:  \n",
    "        print(\"si esta \")"
   ]
  },
  {
   "cell_type": "code",
   "execution_count": 10,
   "metadata": {},
   "outputs": [
    {
     "name": "stdout",
     "output_type": "stream",
     "text": [
      "{'user1': 'Activo', 'user2': 'Inactivo', 'user3': 'Activo', 'user4': 'Inactivo'} <class 'dict'>\n"
     ]
    }
   ],
   "source": [
    "#Para desarrollar el ejercicio mostrado en el tutorial de Python \n",
    "#introduciremos rápidamente los diccionarios\n",
    "\n",
    "# name_dictionary={key1:value1,key2:value2,key3:value3,...}\n",
    "\n",
    "#Cada tupla (key,value) se denomina 'item'\n",
    "\n",
    "usuarios={'user1':'Activo','user2':'Inactivo','user3':'Activo','user4':'Inactivo'}\n",
    "print(usuarios,type(usuarios))"
   ]
  },
  {
   "cell_type": "code",
   "execution_count": 11,
   "metadata": {},
   "outputs": [
    {
     "name": "stdout",
     "output_type": "stream",
     "text": [
      "Activo Inactivo\n"
     ]
    }
   ],
   "source": [
    "#Podemos hallar un determinado 'value' llamando su respectivo 'key'\n",
    "print(usuarios['user1'],usuarios['user4'])"
   ]
  },
  {
   "cell_type": "code",
   "execution_count": 12,
   "metadata": {},
   "outputs": [
    {
     "name": "stdout",
     "output_type": "stream",
     "text": [
      "Bachiller Licenciado Estudiante\n"
     ]
    }
   ],
   "source": [
    "alum={'Alexis':'Bachiller','Gustavo':'Licenciado','Miguel':'Estudiante'}\n",
    "print(alum['Alexis'],alum['Gustavo'],alum['Miguel'])"
   ]
  },
  {
   "cell_type": "code",
   "execution_count": 13,
   "metadata": {},
   "outputs": [
    {
     "data": {
      "text/plain": [
       "False"
      ]
     },
     "execution_count": 13,
     "metadata": {},
     "output_type": "execute_result"
    }
   ],
   "source": [
    "dick_1={1:True,2:False,3:True}\n",
    "dick_1[2]==True"
   ]
  },
  {
   "cell_type": "code",
   "execution_count": 14,
   "metadata": {},
   "outputs": [
    {
     "name": "stdout",
     "output_type": "stream",
     "text": [
      "{'key1': 'Value1', 'key2': 'Value2'}\n"
     ]
    }
   ],
   "source": [
    "#Podemos crear un diccionario vacío e ir llenándolo\n",
    "dick_2={}\n",
    "dick_2['key1']='Value1'\n",
    "dick_2['key2']='Value2'\n",
    "print(dick_2)"
   ]
  },
  {
   "cell_type": "code",
   "execution_count": 15,
   "metadata": {},
   "outputs": [
    {
     "name": "stdout",
     "output_type": "stream",
     "text": [
      "{'key1': 'Value1'}\n"
     ]
    }
   ],
   "source": [
    "#Podemos borrar items\n",
    "del dick_2['key2']\n",
    "print(dick_2)"
   ]
  },
  {
   "cell_type": "markdown",
   "metadata": {},
   "source": [
    "No podemos indexar los diccionarios de la forma usual\n",
    "```\n",
    "alum[0]\n",
    "\n",
    "---------------------------------------------------------------------------\n",
    "KeyError                                  Traceback (most recent call last)\n",
    "<ipython-input-22-3c6dd38fb5ed> in <module>\n",
    "----> 1 alum[0]\n",
    "\n",
    "KeyError: 0\n",
    "```"
   ]
  },
  {
   "cell_type": "code",
   "execution_count": 16,
   "metadata": {
    "scrolled": false
   },
   "outputs": [
    {
     "name": "stdout",
     "output_type": "stream",
     "text": [
      "Alexis\n",
      "Gustavo\n",
      "Miguel\n"
     ]
    }
   ],
   "source": [
    "#No podemos indexar los diccionarios de la forma usual,\n",
    "#sin embargo, si se pueden iterar con una única etiqueta.\n",
    "\n",
    "#Usando el bucle 'for' obtenemos los 'keys'\n",
    "\n",
    "for i in alum:\n",
    "    print(i)"
   ]
  },
  {
   "cell_type": "code",
   "execution_count": 17,
   "metadata": {},
   "outputs": [
    {
     "name": "stdout",
     "output_type": "stream",
     "text": [
      "user1 Activo\n",
      "user2 Inactivo\n",
      "user3 Activo\n",
      "user4 Inactivo\n"
     ]
    }
   ],
   "source": [
    "for i in usuarios:\n",
    "    print(i,usuarios[i])"
   ]
  },
  {
   "cell_type": "code",
   "execution_count": 18,
   "metadata": {},
   "outputs": [],
   "source": [
    "#Deseamos crear un programa que detecte a los usuarios inactivos\n",
    "#y los elimine de nuestro diccionario. A continuación vemos un\n",
    "#error que surge tratando de cumplir el cometido"
   ]
  },
  {
   "cell_type": "markdown",
   "metadata": {},
   "source": [
    "```\n",
    "for i in usuarios:\n",
    "    if usuarios[i]=='Inactivo':\n",
    "        del usuarios[i]\n",
    "usuarios\n",
    "\n",
    "---------------------------------------------------------------------------\n",
    "RuntimeError                              Traceback (most recent call last)\n",
    "<ipython-input-7-615ec49b4ecd> in <module>\n",
    "      2 #y los elimine de nuestro diccionario\n",
    "      3 \n",
    "----> 4 for i in usuarios:\n",
    "      5     if usuarios[i]=='Inactivo':\n",
    "      6         del usuarios[i]\n",
    "\n",
    "RuntimeError: dictionary changed size during iteration\n",
    "```"
   ]
  },
  {
   "cell_type": "code",
   "execution_count": 19,
   "metadata": {},
   "outputs": [
    {
     "name": "stdout",
     "output_type": "stream",
     "text": [
      "dict_items([('user1', 'Activo'), ('user2', 'Inactivo'), ('user3', 'Activo'), ('user4', 'Inactivo')])\n"
     ]
    }
   ],
   "source": [
    "#Creamos una variable que almecene los items del diccionario\n",
    "#usuarios\n",
    "\n",
    "items=usuarios.items()\n",
    "print(items)  "
   ]
  },
  {
   "cell_type": "code",
   "execution_count": 20,
   "metadata": {},
   "outputs": [
    {
     "name": "stdout",
     "output_type": "stream",
     "text": [
      "('user1', 'Activo')\n",
      "('user2', 'Inactivo')\n",
      "('user3', 'Activo')\n",
      "('user4', 'Inactivo')\n",
      "user1\n",
      "user2\n",
      "user3\n",
      "user4\n",
      "Activo\n",
      "Inactivo\n",
      "Activo\n",
      "Inactivo\n",
      "user1 Activo\n",
      "user2 Inactivo\n",
      "user3 Activo\n",
      "user4 Inactivo\n"
     ]
    }
   ],
   "source": [
    "#Esto se puede iterar evidentemente mediante 1 o 2 etiquetas\n",
    "for i in items:\n",
    "    print(i)\n",
    "    \n",
    "for i,j in items:\n",
    "    print(i)\n",
    "    \n",
    "for i,j in items:\n",
    "    print(j)\n",
    "\n",
    "for i,j in items:\n",
    "    print(i,j)"
   ]
  },
  {
   "cell_type": "markdown",
   "metadata": {},
   "source": [
    "Como podemos notar a continuación también se generará un error; ya que, en cada vuelta del bucle *for* se está modificando la cantidad de valores del diccionario *usuarios* y en consecuencia *items*, la cual se actualiza constantemente.\n",
    "\n",
    "```\n",
    "for i,j in items:\n",
    "    if j=='Inactivo':\n",
    "        del usuarios[i]\n",
    "  \n",
    "---------------------------------------------------------------------------\n",
    "RuntimeError                              Traceback (most recent call last)\n",
    "<ipython-input-7-763397d8f76f> in <module>\n",
    "      1 #Probemos detectar los inactivos y borrarlos\n",
    "----> 2 for i,j in items:\n",
    "      3     if j=='Inactivo':\n",
    "      4         del usuarios[i]\n",
    "\n",
    "RuntimeError: dictionary changed size during iteration\n",
    "```"
   ]
  },
  {
   "cell_type": "code",
   "execution_count": 21,
   "metadata": {},
   "outputs": [
    {
     "data": {
      "text/plain": [
       "{'user1': 'Activo', 'user3': 'Activo'}"
      ]
     },
     "execution_count": 21,
     "metadata": {},
     "output_type": "execute_result"
    }
   ],
   "source": [
    "#Para solucionar este problema vamos a crear una copia \n",
    "#del diccionario 'usuarios' y a dicha copia le vamos a extraer\n",
    "#los items, luego borraremos los items requeridos en 'usuarios'\n",
    "#sin afectear el bucle\n",
    "\n",
    "copia_items=usuarios.copy().items()\n",
    "\n",
    "for i,j in copia_items:\n",
    "    if j=='Inactivo':\n",
    "        del usuarios[i]\n",
    "\n",
    "usuarios\n",
    "\n",
    "#Nótese que hacer copia_items=usuarios.items().copy() generaría\n",
    "#un error; ya que, se actualizaría primero y luego se copiaría."
   ]
  }
 ],
 "metadata": {
  "kernelspec": {
   "display_name": "Python 3",
   "language": "python",
   "name": "python3"
  },
  "language_info": {
   "codemirror_mode": {
    "name": "ipython",
    "version": 3
   },
   "file_extension": ".py",
   "mimetype": "text/x-python",
   "name": "python",
   "nbconvert_exporter": "python",
   "pygments_lexer": "ipython3",
   "version": "3.8.3"
  }
 },
 "nbformat": 4,
 "nbformat_minor": 4
}
