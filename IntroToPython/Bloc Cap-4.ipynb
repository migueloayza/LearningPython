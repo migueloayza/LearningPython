{
 "cells": [
  {
   "cell_type": "code",
   "execution_count": 1,
   "metadata": {},
   "outputs": [
    {
     "name": "stdout",
     "output_type": "stream",
     "text": [
      "{'user1': 'Activo', 'user2': 'Inactivo', 'user3': 'Activo', 'user4': 'Inactivo'} <class 'dict'>\n"
     ]
    }
   ],
   "source": [
    "#Para desarrollar el ejercicio mostrado en el tutorial de Python \n",
    "#introduciremos rápidamente los diccionarios\n",
    "# name_dictionary={key1:value1,key2:value2,key3,value3,...}\n",
    "#Cada tupla (key,value) se denomina 'item'\n",
    "\n",
    "usuarios={'user1':'Activo','user2':'Inactivo','user3':'Activo','user4':'Inactivo'}\n",
    "print(usuarios,type(usuarios))"
   ]
  },
  {
   "cell_type": "code",
   "execution_count": 2,
   "metadata": {},
   "outputs": [
    {
     "name": "stdout",
     "output_type": "stream",
     "text": [
      "Activo Inactivo\n",
      "{'user1': 'Activo', 'user2': 'Inactivo', 'user3': 'Activo', 'user4': 'Inactivo', 'user5': 'Activo', 'user6': 'Inactivo'}\n",
      "{'key1': 'Value1'}\n",
      "{'user1': 'Activo', 'user2': 'Inactivo', 'user3': 'Activo', 'user4': 'Inactivo', 'user5': 'Activo'}\n"
     ]
    }
   ],
   "source": [
    "#Podemos hallar un determinado 'value' llamando su respectivo 'key'\n",
    "print(usuarios['user1'],usuarios['user4'])\n",
    "\n",
    "#No se pueden concatenar usando '+'. Debemos hacerlo de la\n",
    "#siguiente forma\n",
    "usuarios['user5'],usuarios['user6']='Activo','Inactivo'\n",
    "print(usuarios)\n",
    "\n",
    "#Podemos crear un diccionario vacío e ir llenándolo\n",
    "dic={}\n",
    "dic['key1']='Value1'\n",
    "print(dic)\n",
    "\n",
    "#Podemos borrar items\n",
    "del usuarios['user6']\n",
    "print(usuarios)"
   ]
  },
  {
   "cell_type": "markdown",
   "metadata": {},
   "source": [
    "No podemos indexar los diccionarios de la forma usual\n",
    "\n",
    "```\n",
    "usuarios[1]\n",
    "\n",
    "---------------------------------------------------------------------------\n",
    "KeyError                                  Traceback (most recent call last)\n",
    "<ipython-input-7-4e55eeb5be37> in <module>\n",
    "      1 #No podemos indexarlo\n",
    "      2 \n",
    "----> 3 usuarios[1]\n",
    "\n",
    "KeyError: 1\n",
    "```"
   ]
  },
  {
   "cell_type": "code",
   "execution_count": 3,
   "metadata": {},
   "outputs": [
    {
     "name": "stdout",
     "output_type": "stream",
     "text": [
      "user1\n",
      "user2\n",
      "user3\n",
      "user4\n",
      "user5\n"
     ]
    }
   ],
   "source": [
    "#No podemos indexar los diccionarios de la forma usual,\n",
    "#sin embargo, si se pueden iterar con una única etiqueta.\n",
    "#Usando el bucle 'for' obtenemos los 'keys'\n",
    " \n",
    "for i in usuarios:\n",
    "    print(i)"
   ]
  },
  {
   "cell_type": "code",
   "execution_count": 4,
   "metadata": {
    "scrolled": true
   },
   "outputs": [
    {
     "name": "stdout",
     "output_type": "stream",
     "text": [
      "Activo\n",
      "Inactivo\n",
      "Activo\n",
      "Inactivo\n",
      "Activo\n"
     ]
    }
   ],
   "source": [
    "#Podriamos obtener los 'values' de la siguiente forma\n",
    "\n",
    "for i in usuarios:\n",
    "    print(usuarios[i])"
   ]
  },
  {
   "cell_type": "code",
   "execution_count": 5,
   "metadata": {
    "scrolled": true
   },
   "outputs": [],
   "source": [
    "#Deseamos crear un programa que detecte a los usuarios inactivos\n",
    "#y los elimine de nuestro diccionario. A continuación vemos un\n",
    "#error que surge tratando de cumplir el cometido"
   ]
  },
  {
   "cell_type": "markdown",
   "metadata": {},
   "source": [
    "```\n",
    "for i in usuarios:\n",
    "    if usuarios[i]=='Inactivo':\n",
    "        del usuarios[i]\n",
    "usuarios\n",
    "\n",
    "---------------------------------------------------------------------------\n",
    "RuntimeError                              Traceback (most recent call last)\n",
    "<ipython-input-7-615ec49b4ecd> in <module>\n",
    "      2 #y los elimine de nuestro diccionario\n",
    "      3 \n",
    "----> 4 for i in usuarios:\n",
    "      5     if usuarios[i]=='Inactivo':\n",
    "      6         del usuarios[i]\n",
    "\n",
    "RuntimeError: dictionary changed size during iteration\n",
    "```\n"
   ]
  },
  {
   "cell_type": "code",
   "execution_count": 6,
   "metadata": {},
   "outputs": [
    {
     "name": "stdout",
     "output_type": "stream",
     "text": [
      "dict_items([('user1', 'Activo'), ('user2', 'Inactivo'), ('user3', 'Activo'), ('user4', 'Inactivo'), ('user5', 'Activo')])\n",
      "('user1', 'Activo')\n",
      "('user2', 'Inactivo')\n",
      "('user3', 'Activo')\n",
      "('user4', 'Inactivo')\n",
      "('user5', 'Activo')\n",
      "user1\n",
      "user2\n",
      "user3\n",
      "user4\n",
      "user5\n",
      "Activo\n",
      "Inactivo\n",
      "Activo\n",
      "Inactivo\n",
      "Activo\n",
      "user1 Activo\n",
      "user2 Inactivo\n",
      "user3 Activo\n",
      "user4 Inactivo\n",
      "user5 Activo\n"
     ]
    }
   ],
   "source": [
    "#Creamos una variable que almecene los items del diccionario\n",
    "#usuarios\n",
    "items=usuarios.items()\n",
    "print(items)\n",
    "\n",
    "#Esto se puede iterar evidentemente mediante 1 o 2 etiquetas\n",
    "for i in items:\n",
    "    print(i)\n",
    "    \n",
    "for i,j in items:\n",
    "    print(i)\n",
    "    \n",
    "for i,j in items:\n",
    "    print(j)\n",
    "\n",
    "for i,j in items:\n",
    "    print(i,j)   "
   ]
  },
  {
   "cell_type": "markdown",
   "metadata": {},
   "source": [
    "Como podemos notar acá también se genera un error; ya que, en cada vuelta del bucle *for* se está modificando la cantidad de valores del diccionario *usuarios* y en consecuencia *items*, la cual se actualiza constantemente.\n",
    "\n",
    "```\n",
    "for i,j in usuarios.items():\n",
    "    if j=='Inactivo':\n",
    "        del usuarios[i]\n",
    "  \n",
    "---------------------------------------------------------------------------\n",
    "RuntimeError                              Traceback (most recent call last)\n",
    "<ipython-input-7-763397d8f76f> in <module>\n",
    "      1 #Probemos detectar los inactivos y borrarlos\n",
    "----> 2 for i,j in items:\n",
    "      3     if j=='Inactivo':\n",
    "      4         del usuarios[i]\n",
    "\n",
    "RuntimeError: dictionary changed size during iteration\n",
    "```"
   ]
  },
  {
   "cell_type": "code",
   "execution_count": 7,
   "metadata": {},
   "outputs": [
    {
     "data": {
      "text/plain": [
       "{'user1': 'Activo', 'user3': 'Activo', 'user5': 'Activo'}"
      ]
     },
     "execution_count": 7,
     "metadata": {},
     "output_type": "execute_result"
    }
   ],
   "source": [
    "#Para solucionar este problema vamos a crear una copia \n",
    "#del diccionario 'usuarios' y a dicha copia le vamos a extraer\n",
    "#los items, luego borraremos los items requeridos en 'usuarios'\n",
    "#sin afectear el bucle\n",
    "\n",
    "copia_items=usuarios.copy().items()\n",
    "\n",
    "for i,j in copia_items:\n",
    "    if j=='Inactivo':\n",
    "        del usuarios[i]\n",
    "\n",
    "usuarios\n",
    "\n",
    "#Nótese que hacer copia_items=usuarios.items().copy() generaría\n",
    "#un error; ya que, se actualizaría primero y luego se copiaría."
   ]
  },
  {
   "cell_type": "markdown",
   "metadata": {},
   "source": [
    "### 4.3. The range( ) Function"
   ]
  },
  {
   "cell_type": "code",
   "execution_count": 8,
   "metadata": {
    "scrolled": true
   },
   "outputs": [
    {
     "name": "stdout",
     "output_type": "stream",
     "text": [
      "0\n",
      "1\n",
      "2\n",
      "3\n",
      "4\n"
     ]
    }
   ],
   "source": [
    "#La función 'range' establece un rango numérico iterable\n",
    "\n",
    "#1ra forma\n",
    "for i in range(5):\n",
    "    print(i)"
   ]
  },
  {
   "cell_type": "code",
   "execution_count": 9,
   "metadata": {},
   "outputs": [
    {
     "name": "stdout",
     "output_type": "stream",
     "text": [
      "2\n",
      "3\n",
      "4\n",
      "5\n",
      "6\n",
      "7\n",
      "8\n",
      "9\n",
      "10\n",
      "11\n",
      "12\n",
      "13\n",
      "14\n"
     ]
    }
   ],
   "source": [
    "#2da forma\n",
    "for i in range(2,15):\n",
    "    print(i)"
   ]
  },
  {
   "cell_type": "code",
   "execution_count": 10,
   "metadata": {
    "scrolled": false
   },
   "outputs": [
    {
     "name": "stdout",
     "output_type": "stream",
     "text": [
      "2\n",
      "5\n",
      "8\n",
      "11\n",
      "14\n",
      "17\n",
      "20\n",
      "23\n",
      "26\n",
      "29\n",
      "32\n"
     ]
    }
   ],
   "source": [
    "#3ra forma\n",
    "for i in range(2,35,3):\n",
    "    print(i)"
   ]
  },
  {
   "cell_type": "code",
   "execution_count": 11,
   "metadata": {},
   "outputs": [
    {
     "name": "stdout",
     "output_type": "stream",
     "text": [
      "range(1, 5)\n"
     ]
    }
   ],
   "source": [
    "#No se pueden imprimir directamenet sus valores. Esto sólo \n",
    "#se logrará al ser iterado\n",
    "\n",
    "print(range(1,5))"
   ]
  },
  {
   "cell_type": "code",
   "execution_count": 12,
   "metadata": {
    "scrolled": true
   },
   "outputs": [
    {
     "name": "stdout",
     "output_type": "stream",
     "text": [
      "1\n",
      "3\n",
      "5\n",
      "7\n",
      "9\n",
      "25\n",
      "[1, 3, 5, 7, 9]\n"
     ]
    }
   ],
   "source": [
    "#También podemos sumar los elementos producidos por la\n",
    "#función 'range', o incluso formar una lista\n",
    "\n",
    "for i in range(1,10,2):\n",
    "    print(i)\n",
    "    \n",
    "print(sum(range(1,10,2)))\n",
    "print(list(range(1,10,2)))"
   ]
  },
  {
   "cell_type": "markdown",
   "metadata": {},
   "source": [
    "### 4.4. break and continue Statements, and else Clauses on Loops"
   ]
  },
  {
   "cell_type": "code",
   "execution_count": 13,
   "metadata": {},
   "outputs": [
    {
     "name": "stdout",
     "output_type": "stream",
     "text": [
      "0\n",
      "1\n",
      "2\n",
      "3\n",
      "4\n",
      "asu mare\n",
      "\n",
      "Código restante\n"
     ]
    }
   ],
   "source": [
    "#En el bucle 'for' podemos introducir un else, el cual se \n",
    "#ejecutará al final del bucle\n",
    "\n",
    "for i in range(5):\n",
    "    print(i)\n",
    "else:\n",
    "    print('asu mare')\n",
    "    \n",
    "print('\\nCódigo restante')"
   ]
  },
  {
   "cell_type": "code",
   "execution_count": 14,
   "metadata": {},
   "outputs": [
    {
     "name": "stdout",
     "output_type": "stream",
     "text": [
      "0\n",
      "1\n",
      "2\n",
      "3\n",
      "4\n",
      "5\n",
      "6\n",
      "7\n",
      "8\n",
      "9\n",
      "asu mare2\n",
      "\n",
      "Código restante\n"
     ]
    }
   ],
   "source": [
    "#En el bucle 'while' podemos introducir un else, el cual se \n",
    "#ejecutará cuando la codición del while sea falsa\n",
    "\n",
    "a=0\n",
    "\n",
    "while a<10:\n",
    "    print(a)\n",
    "    a=a+1\n",
    "else:\n",
    "    print('asu mare2')\n",
    "\n",
    "print('\\nCódigo restante')"
   ]
  },
  {
   "cell_type": "code",
   "execution_count": 15,
   "metadata": {},
   "outputs": [
    {
     "name": "stdout",
     "output_type": "stream",
     "text": [
      "0\n",
      "1\n",
      "2\n",
      "3\n",
      "4\n",
      "asu mare\n",
      "\n",
      "Código restante\n"
     ]
    }
   ],
   "source": [
    "#Dentro del bucle 'for' podemos usar la instrucción 'break'\n",
    "#para frenar el bucle y salir de él\n",
    "\n",
    "#Al salir del bucle debido al 'break' ya no se ejecutará el \n",
    "#'else'; ya que, es parte del bucle 'for'\n",
    "\n",
    "for i in range(5):\n",
    "    print(i)\n",
    "    if i==6:\n",
    "        print('salio el ',i)\n",
    "        break\n",
    "else:\n",
    "    print('asu mare')\n",
    "\n",
    "print('\\nCódigo restante')"
   ]
  },
  {
   "cell_type": "code",
   "execution_count": 16,
   "metadata": {
    "scrolled": true
   },
   "outputs": [
    {
     "name": "stdout",
     "output_type": "stream",
     "text": [
      "0\n",
      "1\n",
      "2\n",
      "3\n",
      "salio el  3\n",
      "\n",
      "Código restante\n"
     ]
    }
   ],
   "source": [
    "for i in range(5):\n",
    "    print(i)\n",
    "    if i==3:\n",
    "        print('salio el ',i)\n",
    "        break\n",
    "else:\n",
    "    print('asu mare')\n",
    "\n",
    "print('\\nCódigo restante')"
   ]
  },
  {
   "cell_type": "code",
   "execution_count": 17,
   "metadata": {},
   "outputs": [
    {
     "name": "stdout",
     "output_type": "stream",
     "text": [
      "0\n",
      "1\n",
      "2\n",
      "3\n",
      "4\n",
      "5\n",
      "6\n",
      "7\n",
      "8\n",
      "9\n",
      "asu mare3\n",
      "\n",
      "Código restante\n"
     ]
    }
   ],
   "source": [
    "#De forma similar para 'while'\n",
    "\n",
    "a=0\n",
    "\n",
    "while a<10:\n",
    "    print(a)\n",
    "    if a==12:\n",
    "        print('salió el',a)\n",
    "        break\n",
    "    a=a+1\n",
    "else:\n",
    "    print('asu mare3')\n",
    "\n",
    "print('\\nCódigo restante')"
   ]
  },
  {
   "cell_type": "code",
   "execution_count": 18,
   "metadata": {
    "scrolled": true
   },
   "outputs": [
    {
     "name": "stdout",
     "output_type": "stream",
     "text": [
      "0\n",
      "1\n",
      "2\n",
      "3\n",
      "4\n",
      "5\n",
      "6\n",
      "salió el 6\n",
      "\n",
      "Código restante\n"
     ]
    }
   ],
   "source": [
    "a=0\n",
    "\n",
    "while a<10:\n",
    "    print(a)\n",
    "    if a==6:\n",
    "        print('salió el',a)\n",
    "        break\n",
    "    a=a+1\n",
    "else:\n",
    "    print('asu mare3')\n",
    "\n",
    "print('\\nCódigo restante')"
   ]
  },
  {
   "cell_type": "code",
   "execution_count": 19,
   "metadata": {
    "scrolled": true
   },
   "outputs": [
    {
     "name": "stdout",
     "output_type": "stream",
     "text": [
      "El número 2 es par\n",
      "Código restante en el bucle\n",
      "El número 4 es par\n",
      "Código restante en el bucle\n",
      "El número 6 es par\n",
      "Código restante en el bucle\n",
      "El número 8 es par\n",
      "Código restante en el bucle\n",
      "\n",
      "Código restante\n"
     ]
    }
   ],
   "source": [
    "#La instrucción 'continue' se usa para ir a la siguiente iteración\n",
    "#sin considerar el código restante dentro del cuerpo del bucle\n",
    "\n",
    "for num in range(2, 10):\n",
    "    if num%2==0:\n",
    "        print('El número',num,'es par')\n",
    "        continue\n",
    "    print('Código restante en el bucle')\n",
    "\n",
    "print('\\nCódigo restante')"
   ]
  },
  {
   "cell_type": "markdown",
   "metadata": {},
   "source": [
    "### 4.5. pass Statements"
   ]
  },
  {
   "cell_type": "code",
   "execution_count": 20,
   "metadata": {},
   "outputs": [
    {
     "name": "stdout",
     "output_type": "stream",
     "text": [
      "Código inicial\n",
      "\n",
      "\n",
      "Código restante\n"
     ]
    }
   ],
   "source": [
    "print('Código inicial\\n')\n",
    "\n",
    "def initlog(*args):\n",
    "    pass   # Remember to implement this!\n",
    "\n",
    "print('\\nCódigo restante')"
   ]
  },
  {
   "cell_type": "code",
   "execution_count": 21,
   "metadata": {},
   "outputs": [
    {
     "name": "stdout",
     "output_type": "stream",
     "text": [
      "Código inicial\n",
      "\n",
      "\n",
      "Código restante\n"
     ]
    }
   ],
   "source": [
    "print('Código inicial\\n')\n",
    "\n",
    "class MyEmptyClass:\n",
    "    pass\n",
    "\n",
    "print('\\nCódigo restante')"
   ]
  },
  {
   "cell_type": "code",
   "execution_count": 22,
   "metadata": {},
   "outputs": [
    {
     "name": "stdout",
     "output_type": "stream",
     "text": [
      "Código inicial\n",
      "\n",
      "\n",
      "Código restante\n"
     ]
    }
   ],
   "source": [
    "print('Código inicial\\n')\n",
    "\n",
    "a=0\n",
    "while a<9:\n",
    "    a=a+1\n",
    "    pass #Me aseguro que el bucle no sea infinito para que pueda compilar\n",
    "    \n",
    "\n",
    "print('\\nCódigo restante')"
   ]
  },
  {
   "cell_type": "markdown",
   "metadata": {},
   "source": [
    "### 4.6. Defining Functions"
   ]
  },
  {
   "cell_type": "code",
   "execution_count": null,
   "metadata": {},
   "outputs": [],
   "source": []
  }
 ],
 "metadata": {
  "kernelspec": {
   "display_name": "Python 3",
   "language": "python",
   "name": "python3"
  },
  "language_info": {
   "codemirror_mode": {
    "name": "ipython",
    "version": 3
   },
   "file_extension": ".py",
   "mimetype": "text/x-python",
   "name": "python",
   "nbconvert_exporter": "python",
   "pygments_lexer": "ipython3",
   "version": "3.8.3"
  }
 },
 "nbformat": 4,
 "nbformat_minor": 4
}
