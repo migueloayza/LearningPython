{
 "cells": [
  {
   "cell_type": "code",
   "execution_count": 1,
   "metadata": {},
   "outputs": [],
   "source": [
    "def mensaje():\n",
    "    print( '''\\\n",
    "    +++++++++++\n",
    "    +         +\n",
    "    + WARNING +\n",
    "    +         +\n",
    "    +++++++++++\n",
    "    ''')"
   ]
  },
  {
   "cell_type": "code",
   "execution_count": 2,
   "metadata": {},
   "outputs": [
    {
     "name": "stdout",
     "output_type": "stream",
     "text": [
      "    +++++++++++\n",
      "    +         +\n",
      "    + WARNING +\n",
      "    +         +\n",
      "    +++++++++++\n",
      "    \n"
     ]
    }
   ],
   "source": [
    "mensaje()\n"
   ]
  },
  {
   "cell_type": "code",
   "execution_count": 3,
   "metadata": {},
   "outputs": [
    {
     "name": "stdout",
     "output_type": "stream",
     "text": [
      "0\n",
      "1\n",
      "1\n",
      "2\n",
      "3\n",
      "5\n",
      "8\n",
      "13\n",
      "21\n",
      "34\n",
      "55\n",
      "89\n"
     ]
    },
    {
     "ename": "NameError",
     "evalue": "name 'n_lista' is not defined",
     "output_type": "error",
     "traceback": [
      "\u001b[1;31m---------------------------------------------------------------------------\u001b[0m",
      "\u001b[1;31mNameError\u001b[0m                                 Traceback (most recent call last)",
      "\u001b[1;32m<ipython-input-3-7188876fa67e>\u001b[0m in \u001b[0;36m<module>\u001b[1;34m\u001b[0m\n\u001b[0;32m      7\u001b[0m \u001b[1;33m\u001b[0m\u001b[0m\n\u001b[0;32m      8\u001b[0m \u001b[1;33m\u001b[0m\u001b[0m\n\u001b[1;32m----> 9\u001b[1;33m \u001b[0mn_lista\u001b[0m\u001b[1;33m.\u001b[0m\u001b[0mappend\u001b[0m\u001b[1;33m(\u001b[0m\u001b[0ma\u001b[0m\u001b[1;33m)\u001b[0m\u001b[1;33m\u001b[0m\u001b[1;33m\u001b[0m\u001b[0m\n\u001b[0m",
      "\u001b[1;31mNameError\u001b[0m: name 'n_lista' is not defined"
     ]
    }
   ],
   "source": [
    "a,b=0,1\n",
    "n=100\n",
    "m_lista=[]\n",
    "while a<n:\n",
    "    print(a)\n",
    "    a,b=b,a+b\n",
    "\n",
    "\n",
    "n_lista.append(a)    \n"
   ]
  },
  {
   "cell_type": "code",
   "execution_count": 7,
   "metadata": {},
   "outputs": [
    {
     "name": "stdout",
     "output_type": "stream",
     "text": [
      "Ingresa un valor entero: 6\n",
      "0\n",
      "1\n",
      "1\n",
      "2\n",
      "3\n",
      "5\n",
      "Fin\n",
      "[0, 1, 1, 2, 3, 5]\n"
     ]
    }
   ],
   "source": [
    "m=int(input('Ingresa un valor entero: '))\n",
    "n_lista=[]\n",
    "\n",
    "def fibo(n):\n",
    "    if n<0:\n",
    "        print('ERROR-404-weona')\n",
    "    else:\n",
    "        i,j=0,1\n",
    "        while i<=n:\n",
    "            print(i)\n",
    "            n_lista.append(i)\n",
    "            i,j=j,i+j\n",
    "        print('Fin')\n",
    "\n",
    "fibo(m)\n",
    "print(n_lista)"
   ]
  },
  {
   "cell_type": "code",
   "execution_count": null,
   "metadata": {},
   "outputs": [],
   "source": [
    "$\n",
    "x-12=0\n",
    "$\n",
    "def valor_x(ans,veces=3, mensaje=\"tu puedes loko\"):\n",
    "    while veces>0:\n",
    "        ans=int(input(\"Ingresa numero de x: \"))\n",
    "        if ans==12:\n",
    "            print(\"bien muchachin\")\n",
    "            "
   ]
  },
  {
   "cell_type": "code",
   "execution_count": null,
   "metadata": {},
   "outputs": [],
   "source": []
  }
 ],
 "metadata": {
  "kernelspec": {
   "display_name": "Python 3",
   "language": "python",
   "name": "python3"
  },
  "language_info": {
   "codemirror_mode": {
    "name": "ipython",
    "version": 3
   },
   "file_extension": ".py",
   "mimetype": "text/x-python",
   "name": "python",
   "nbconvert_exporter": "python",
   "pygments_lexer": "ipython3",
   "version": "3.8.3"
  }
 },
 "nbformat": 4,
 "nbformat_minor": 4
}
