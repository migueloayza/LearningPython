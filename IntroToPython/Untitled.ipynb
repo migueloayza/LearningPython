{
 "cells": [
  {
   "cell_type": "code",
   "execution_count": null,
   "metadata": {},
   "outputs": [],
   "source": [
    "x=float(input(\"ingresar nota: \"))\n",
    "if 0<=x<=10.5:\n",
    "    print(\"el estudiante desaprobo\")\n",
    "elif x<0 or x>20:  \n",
    "    print(\"de 0 a 20 terrible mongol\")\n",
    "else:\n",
    "    print(\"el estudiante aprobo\")\n",
    "\n"
   ]
  },
  {
   "cell_type": "code",
   "execution_count": null,
   "metadata": {},
   "outputs": [],
   "source": []
  }
 ],
 "metadata": {
  "kernelspec": {
   "display_name": "Python 3",
   "language": "python",
   "name": "python3"
  },
  "language_info": {
   "codemirror_mode": {
    "name": "ipython",
    "version": 3
   },
   "file_extension": ".py",
   "mimetype": "text/x-python",
   "name": "python",
   "nbconvert_exporter": "python",
   "pygments_lexer": "ipython3",
   "version": "3.8.3"
  }
 },
 "nbformat": 4,
 "nbformat_minor": 4
}
