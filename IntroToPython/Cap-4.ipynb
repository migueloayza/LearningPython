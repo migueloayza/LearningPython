{
 "cells": [
  {
   "cell_type": "markdown",
   "metadata": {},
   "source": [
    "# Capítulo 4"
   ]
  },
  {
   "cell_type": "markdown",
   "metadata": {},
   "source": [
    "### 4.0 input"
   ]
  },
  {
   "cell_type": "code",
   "execution_count": 1,
   "metadata": {},
   "outputs": [
    {
     "name": "stdout",
     "output_type": "stream",
     "text": [
      "Introduce tu nombre: Carlos Miguel\n",
      "tu nombre es: Carlos Miguel\n"
     ]
    }
   ],
   "source": [
    "#Veamos cómo se introducen datos\n",
    "#Por defecto el input lee datos y los trata como cadenas\n",
    "\n",
    "nombre=input('Introduce tu nombre: ')\n",
    "print(\"tu nombre es: \"+nombre)"
   ]
  },
  {
   "cell_type": "code",
   "execution_count": 2,
   "metadata": {},
   "outputs": [
    {
     "name": "stdout",
     "output_type": "stream",
     "text": [
      "Introduce el valor de la variable: True\n"
     ]
    },
    {
     "data": {
      "text/plain": [
       "str"
      ]
     },
     "execution_count": 2,
     "metadata": {},
     "output_type": "execute_result"
    }
   ],
   "source": [
    "#Por defecto el input lee datos y los trata como cadenas (strings)\n",
    "\n",
    "variable=input('Introduce el valor de la variable: ')\n",
    "type(variable)"
   ]
  },
  {
   "cell_type": "code",
   "execution_count": 5,
   "metadata": {},
   "outputs": [
    {
     "name": "stdout",
     "output_type": "stream",
     "text": [
      "Introduce el valor de la variable: 78\n"
     ]
    },
    {
     "data": {
      "text/plain": [
       "str"
      ]
     },
     "execution_count": 5,
     "metadata": {},
     "output_type": "execute_result"
    }
   ],
   "source": [
    "variable_2=input('Introduce el valor de la variable: ')\n",
    "type(variable_2)"
   ]
  },
  {
   "cell_type": "code",
   "execution_count": 6,
   "metadata": {},
   "outputs": [
    {
     "name": "stdout",
     "output_type": "stream",
     "text": [
      "Introduce el valor de la variable: $%&\n"
     ]
    },
    {
     "data": {
      "text/plain": [
       "str"
      ]
     },
     "execution_count": 6,
     "metadata": {},
     "output_type": "execute_result"
    }
   ],
   "source": [
    "variable_3=input('Introduce el valor de la variable: ')\n",
    "type(variable_3)"
   ]
  },
  {
   "cell_type": "code",
   "execution_count": 3,
   "metadata": {},
   "outputs": [
    {
     "name": "stdout",
     "output_type": "stream",
     "text": [
      "Ingresa la nota: 18\n"
     ]
    },
    {
     "data": {
      "text/plain": [
       "int"
      ]
     },
     "execution_count": 3,
     "metadata": {},
     "output_type": "execute_result"
    }
   ],
   "source": [
    "#Para que el valor ingresado sea tratado como un entero (int) o \n",
    "#decimal (float) debo colocar dicha instrucción antes de input\n",
    "#Si no ingreso un valor entero obtendré un error\n",
    "\n",
    "nota_entero=int(input('Ingresa la nota: '))\n",
    "type(nota_entero)"
   ]
  },
  {
   "cell_type": "code",
   "execution_count": 8,
   "metadata": {},
   "outputs": [
    {
     "name": "stdout",
     "output_type": "stream",
     "text": [
      "Ingresa la nota: 15.4\n"
     ]
    },
    {
     "data": {
      "text/plain": [
       "float"
      ]
     },
     "execution_count": 8,
     "metadata": {},
     "output_type": "execute_result"
    }
   ],
   "source": [
    "nota_decimal=float(input('Ingresa la nota: '))\n",
    "type(nota_decimal)"
   ]
  },
  {
   "cell_type": "code",
   "execution_count": 13,
   "metadata": {
    "scrolled": true
   },
   "outputs": [
    {
     "name": "stdout",
     "output_type": "stream",
     "text": [
      "Ingresa la nota: 17\n",
      "<class 'float'>\n",
      "17.0\n"
     ]
    }
   ],
   "source": [
    "nota_decimal_2=float(input('Ingresa la nota: '))\n",
    "print(type(nota_decimal_2))\n",
    "print(nota_decimal_2)"
   ]
  },
  {
   "cell_type": "code",
   "execution_count": 24,
   "metadata": {},
   "outputs": [
    {
     "data": {
      "text/plain": [
       "False"
      ]
     },
     "execution_count": 24,
     "metadata": {},
     "output_type": "execute_result"
    }
   ],
   "source": [
    "#Nótese la diferencia entre '=' y '=='\n",
    "\n",
    "boleano=45\n",
    "boleano==50"
   ]
  },
  {
   "cell_type": "markdown",
   "metadata": {},
   "source": [
    "### 4.1. if Statements"
   ]
  },
  {
   "cell_type": "code",
   "execution_count": 33,
   "metadata": {},
   "outputs": [
    {
     "name": "stdout",
     "output_type": "stream",
     "text": [
      "Ingrese un valor entero: 15\n",
      "Es otro número positivo\n"
     ]
    }
   ],
   "source": [
    "x=int(input('Ingrese un valor entero: '))\n",
    "\n",
    "if x<0:\n",
    "    print('Este número es negativo')\n",
    "elif x==0:\n",
    "    print('Este número es cero')\n",
    "elif x==1:\n",
    "    print('Este número es 1')\n",
    "elif x==2:\n",
    "    print('Este número es 2')\n",
    "else:\n",
    "    print('Es otro número positivo')"
   ]
  },
  {
   "cell_type": "code",
   "execution_count": 46,
   "metadata": {},
   "outputs": [
    {
     "name": "stdout",
     "output_type": "stream",
     "text": [
      "Ingresa la nota: 21\n",
      "ERROR, weona\n"
     ]
    }
   ],
   "source": [
    "#Programa para verificar si un alumno aprobó o no\n",
    "#Usando un intervalo\n",
    "\n",
    "#Gustavo\n",
    "notx=float(input('Ingresa la nota: '))\n",
    "if notx<0:\n",
    "    print('ERROR, weona')\n",
    "elif 0<=notx<10.5:\n",
    "    print('Jaló la weona')\n",
    "elif 10.5<=notx<=20:\n",
    "    print('Aprobó weona')\n",
    "else:\n",
    "    print('ERROR, weona')"
   ]
  },
  {
   "cell_type": "code",
   "execution_count": 49,
   "metadata": {},
   "outputs": [
    {
     "name": "stdout",
     "output_type": "stream",
     "text": [
      "nota del estudiantaaaaa: 15\n",
      "aprobo le perrx\n"
     ]
    }
   ],
   "source": [
    "#Alexis\n",
    "#Uando el operdor lógico 'and'\n",
    "\n",
    "x=int(input('nota del estudiantaaaaa: '))\n",
    "if x>=10.5 and x<=20:\n",
    "    print('aprobo le perrx')\n",
    "elif x<10.5 and x>=0:\n",
    "    print('sorry perritx')\n",
    "else:\n",
    "    print('no seas pendejo ps')"
   ]
  },
  {
   "cell_type": "code",
   "execution_count": 48,
   "metadata": {},
   "outputs": [
    {
     "name": "stdout",
     "output_type": "stream",
     "text": [
      "ingresar nota: -18\n",
      "solo positivos mongol\n"
     ]
    }
   ],
   "source": [
    "#Miguel\n",
    "x=float(input(\"ingresar nota: \"))\n",
    "if 0<=x<=10.5:\n",
    "    print(\"el estudiante desaprobo\")\n",
    "elif x<0:\n",
    "    print(\"solo positivos mongol\")\n",
    "elif x>20:\n",
    "    print(\"no debe pasar de 20 mongol\")\n",
    "else:\n",
    "    print(\"el estudiante aprobo\")"
   ]
  },
  {
   "cell_type": "markdown",
   "metadata": {},
   "source": [
    "### 4.2. for Statements"
   ]
  },
  {
   "cell_type": "code",
   "execution_count": 55,
   "metadata": {},
   "outputs": [],
   "source": [
    "#Estructura:\n",
    "#for variable in elemento_a_recorrer:   \n",
    "#\t   cuerpo del bucle"
   ]
  },
  {
   "cell_type": "code",
   "execution_count": 54,
   "metadata": {},
   "outputs": [
    {
     "name": "stdout",
     "output_type": "stream",
     "text": [
      "K\n",
      "i\n",
      "a\n",
      "-\n",
      "P\n",
      "i\n",
      "c\n",
      "a\n",
      "n\n",
      "t\n",
      "o\n"
     ]
    }
   ],
   "source": [
    "#La instrucción 'for' itera sobre los indices de las variables\n",
    "#definidas, que pueden ser cadenas o listas\n",
    "\n",
    "auto='Kia-Picanto'\n",
    "\n",
    "for x in auto:\n",
    "    print(x)"
   ]
  },
  {
   "cell_type": "code",
   "execution_count": 52,
   "metadata": {},
   "outputs": [
    {
     "name": "stdout",
     "output_type": "stream",
     "text": [
      "kia 3\n",
      "toyota 6\n",
      "nissan 6\n"
     ]
    }
   ],
   "source": [
    "car=['kia','toyota','nissan']\n",
    "\n",
    "for i in car:\n",
    "    print(i,len(i))"
   ]
  },
  {
   "cell_type": "code",
   "execution_count": 57,
   "metadata": {
    "scrolled": true
   },
   "outputs": [
    {
     "name": "stdout",
     "output_type": "stream",
     "text": [
      "tu mamá calata 7\n",
      "tu mamá calata 2\n",
      "tu mamá calata 9\n",
      "tu mamá calata 4\n"
     ]
    }
   ],
   "source": [
    "for j in [7,2,9,4]:\n",
    "    print('tu mamá calata',j)"
   ]
  },
  {
   "cell_type": "code",
   "execution_count": 59,
   "metadata": {},
   "outputs": [
    {
     "name": "stdout",
     "output_type": "stream",
     "text": [
      "may may may may "
     ]
    }
   ],
   "source": [
    "for n in \"1234\":\n",
    "    print(\"may\", end=\" \")"
   ]
  },
  {
   "cell_type": "code",
   "execution_count": 69,
   "metadata": {},
   "outputs": [
    {
     "name": "stdout",
     "output_type": "stream",
     "text": [
      "Introduce tu correo: luisloro@\n",
      "True <class 'bool'>\n",
      "Correcto\n"
     ]
    }
   ],
   "source": [
    "#Crearemos un programa que verifique si hemos usado o no\n",
    "#el símbolo @ en un correo electrónico\n",
    "\n",
    "email=input('Introduce tu correo: ')\n",
    "\n",
    "for m in email:\n",
    "    if m=='@':\n",
    "        email=True #Aquí estamos reescribiendo la variable a un valor booleano\n",
    "\n",
    "print(email,type(email))\n",
    "if email==True:\n",
    "    print('Correcto')\n",
    "else:\n",
    "    print('Incorrecto')"
   ]
  }
 ],
 "metadata": {
  "kernelspec": {
   "display_name": "Python 3",
   "language": "python",
   "name": "python3"
  },
  "language_info": {
   "codemirror_mode": {
    "name": "ipython",
    "version": 3
   },
   "file_extension": ".py",
   "mimetype": "text/x-python",
   "name": "python",
   "nbconvert_exporter": "python",
   "pygments_lexer": "ipython3",
   "version": "3.8.3"
  }
 },
 "nbformat": 4,
 "nbformat_minor": 4
}
