{
 "cells": [
  {
   "cell_type": "markdown",
   "metadata": {},
   "source": [
    "# Capítulo 4"
   ]
  },
  {
   "cell_type": "markdown",
   "metadata": {},
   "source": [
    "### 4.0 input"
   ]
  },
  {
   "cell_type": "raw",
   "metadata": {},
   "source": []
  },
  {
   "cell_type": "code",
   "execution_count": 1,
   "metadata": {},
   "outputs": [
    {
     "name": "stdout",
     "output_type": "stream",
     "text": [
      "Introduce tu nombre: Carlos\n",
      "tu nombre es: Carlos\n"
     ]
    }
   ],
   "source": [
    "#Veamos cómo se introducen datos\n",
    "#Por defecto el input lee datos y los trata como cadenas\n",
    "\n",
    "nombre=input('Introduce tu nombre: ')\n",
    "print(\"tu nombre es: \"+nombre)"
   ]
  },
  {
   "cell_type": "code",
   "execution_count": 2,
   "metadata": {},
   "outputs": [
    {
     "name": "stdout",
     "output_type": "stream",
     "text": [
      "Introduce el valor de la variable: 12\n"
     ]
    },
    {
     "data": {
      "text/plain": [
       "str"
      ]
     },
     "execution_count": 2,
     "metadata": {},
     "output_type": "execute_result"
    }
   ],
   "source": [
    "#Por defecto el input lee datos y los trata como cadenas (strings)\n",
    "\n",
    "variable=input('Introduce el valor de la variable: ')\n",
    "type(variable)"
   ]
  },
  {
   "cell_type": "code",
   "execution_count": 3,
   "metadata": {},
   "outputs": [
    {
     "name": "stdout",
     "output_type": "stream",
     "text": [
      "Introduce el valor de la variable: Casa\n"
     ]
    },
    {
     "data": {
      "text/plain": [
       "str"
      ]
     },
     "execution_count": 3,
     "metadata": {},
     "output_type": "execute_result"
    }
   ],
   "source": [
    "variable_2=input('Introduce el valor de la variable: ')\n",
    "type(variable_2)"
   ]
  },
  {
   "cell_type": "code",
   "execution_count": 4,
   "metadata": {},
   "outputs": [
    {
     "name": "stdout",
     "output_type": "stream",
     "text": [
      "Introduce el valor de la variable: True\n"
     ]
    },
    {
     "data": {
      "text/plain": [
       "str"
      ]
     },
     "execution_count": 4,
     "metadata": {},
     "output_type": "execute_result"
    }
   ],
   "source": [
    "variable_3=input('Introduce el valor de la variable: ')\n",
    "type(variable_3)"
   ]
  },
  {
   "cell_type": "code",
   "execution_count": 5,
   "metadata": {},
   "outputs": [
    {
     "name": "stdout",
     "output_type": "stream",
     "text": [
      "Ingresa la nota: 12\n"
     ]
    },
    {
     "data": {
      "text/plain": [
       "int"
      ]
     },
     "execution_count": 5,
     "metadata": {},
     "output_type": "execute_result"
    }
   ],
   "source": [
    "#Para que el valor ingresado sea tratado como un entero (int) o \n",
    "#decimal (float) debo colocar dicha instrucción antes de input\n",
    "#Si no ingreso un valor entero obtendré un error\n",
    "\n",
    "nota_entero=int(input('Ingresa la nota: '))\n",
    "type(nota_entero)"
   ]
  },
  {
   "cell_type": "code",
   "execution_count": 6,
   "metadata": {},
   "outputs": [
    {
     "name": "stdout",
     "output_type": "stream",
     "text": [
      "Ingresa la nota: 13.5\n"
     ]
    },
    {
     "data": {
      "text/plain": [
       "float"
      ]
     },
     "execution_count": 6,
     "metadata": {},
     "output_type": "execute_result"
    }
   ],
   "source": [
    "nota_decimal=float(input('Ingresa la nota: '))\n",
    "type(nota_decimal)"
   ]
  },
  {
   "cell_type": "code",
   "execution_count": 7,
   "metadata": {
    "scrolled": true
   },
   "outputs": [
    {
     "name": "stdout",
     "output_type": "stream",
     "text": [
      "Ingresa la nota: 18\n",
      "<class 'float'>\n",
      "18.0\n"
     ]
    }
   ],
   "source": [
    "nota_decimal_2=float(input('Ingresa la nota: '))\n",
    "print(type(nota_decimal_2))\n",
    "print(nota_decimal_2)"
   ]
  },
  {
   "cell_type": "code",
   "execution_count": 8,
   "metadata": {},
   "outputs": [
    {
     "data": {
      "text/plain": [
       "False"
      ]
     },
     "execution_count": 8,
     "metadata": {},
     "output_type": "execute_result"
    }
   ],
   "source": [
    "#Nótese la diferencia entre '=' y '=='\n",
    "\n",
    "boleano=45\n",
    "boleano==50"
   ]
  },
  {
   "cell_type": "markdown",
   "metadata": {},
   "source": [
    "### 4.1. if Statements"
   ]
  },
  {
   "cell_type": "code",
   "execution_count": 9,
   "metadata": {},
   "outputs": [
    {
     "name": "stdout",
     "output_type": "stream",
     "text": [
      "Ingrese un valor entero: 6\n",
      "Es otro número positivo\n"
     ]
    }
   ],
   "source": [
    "x=int(input('Ingrese un valor entero: '))\n",
    "\n",
    "if x<0:\n",
    "    print('Este número es negativo')\n",
    "elif x==0:\n",
    "    print('Este número es cero')\n",
    "elif x==1:\n",
    "    print('Este número es 1')\n",
    "elif x==2:\n",
    "    print('Este número es 2')\n",
    "else:\n",
    "    print('Es otro número positivo')"
   ]
  },
  {
   "cell_type": "code",
   "execution_count": 10,
   "metadata": {},
   "outputs": [
    {
     "name": "stdout",
     "output_type": "stream",
     "text": [
      "Ingresa la nota: -1\n",
      "ERROR, weona\n"
     ]
    }
   ],
   "source": [
    "#Programa para verificar si un alumno aprobó o no\n",
    "#Usando un intervalo\n",
    "\n",
    "#Gustavo\n",
    "notx=float(input('Ingresa la nota: '))\n",
    "if notx<0:\n",
    "    print('ERROR, weona')\n",
    "elif 0<=notx<10.5:\n",
    "    print('Jaló la weona')\n",
    "elif 10.5<=notx<=20:\n",
    "    print('Aprobó weona')\n",
    "else:\n",
    "    print('ERROR, weona')"
   ]
  },
  {
   "cell_type": "code",
   "execution_count": 11,
   "metadata": {},
   "outputs": [
    {
     "name": "stdout",
     "output_type": "stream",
     "text": [
      "nota del estudiantaaaaa: 12\n",
      "aprobo le perrx\n"
     ]
    }
   ],
   "source": [
    "#Alexis\n",
    "#Uando el operdor lógico 'and'\n",
    "\n",
    "x=int(input('nota del estudiantaaaaa: '))\n",
    "if x>=10.5 and x<=20:\n",
    "    print('aprobo le perrx')\n",
    "elif x<10.5 and x>=0:\n",
    "    print('sorry perritx')\n",
    "else:\n",
    "    print('no seas pendejo ps')"
   ]
  },
  {
   "cell_type": "code",
   "execution_count": 12,
   "metadata": {
    "scrolled": true
   },
   "outputs": [
    {
     "name": "stdout",
     "output_type": "stream",
     "text": [
      "ingresar nota: 21\n",
      "no debe pasar de 20 mongol\n"
     ]
    }
   ],
   "source": [
    "#Miguel\n",
    "x=float(input(\"ingresar nota: \"))\n",
    "if 0<=x<=10.5:\n",
    "    print(\"el estudiante desaprobo\")\n",
    "elif x<0:\n",
    "    print(\"solo positivos mongol\")\n",
    "elif x>20:\n",
    "    print(\"no debe pasar de 20 mongol\")\n",
    "else:\n",
    "    print(\"el estudiante aprobo\")"
   ]
  },
  {
   "cell_type": "markdown",
   "metadata": {},
   "source": [
    "### 4.1.1 AND, IN and OR"
   ]
  },
  {
   "cell_type": "code",
   "execution_count": 13,
   "metadata": {},
   "outputs": [
    {
     "name": "stdout",
     "output_type": "stream",
     "text": [
      "distancia al cole: 30\n",
      "# de hermanos: 50\n",
      "ingresos mensuales: 12503\n",
      "no se acredita\n"
     ]
    }
   ],
   "source": [
    "#Para darle la beca a un estudiante, este debe cumplir los \n",
    "#siguientes requisitos:\n",
    "\n",
    "# 1. distancia de cole a casa > 30km\n",
    "# 2. número de hermanos > 2\n",
    "# 3. salario familiar <= 2500\n",
    "\n",
    "#Alexis\n",
    "distancia=float(input('distancia al cole: '))\n",
    "hermanos=int(input('# de hermanos: '))\n",
    "sal_familiar=float(input('ingresos mensuales: '))\n",
    "if distancia>30 and hermanos>2 and sal_familiar<=2500:\n",
    "    print('se acredita la beca')\n",
    "else:\n",
    "     print('no se acredita')"
   ]
  },
  {
   "cell_type": "code",
   "execution_count": 14,
   "metadata": {
    "scrolled": false
   },
   "outputs": [
    {
     "name": "stdout",
     "output_type": "stream",
     "text": [
      "distancia de cole a casa: 50\n",
      "numero de hermanos: 62\n",
      "salario familiar: 12540\n",
      "no recibe beca\n"
     ]
    }
   ],
   "source": [
    "#Miguel\n",
    "\n",
    "x=int(input(\"distancia de cole a casa: \"))\n",
    "\n",
    "y=int(input(\"numero de hermanos: \"))\n",
    "\n",
    "z=int(input(\"salario familiar: \"))\n",
    "\n",
    "if x>30 and y>2 and z<=2500:\n",
    "    print(\"recibe beca\")\n",
    "else:\n",
    "    print(\"no recibe beca\")"
   ]
  },
  {
   "cell_type": "code",
   "execution_count": 15,
   "metadata": {},
   "outputs": [
    {
     "name": "stdout",
     "output_type": "stream",
     "text": [
      "distancia de cole a casa: 30\n",
      "numero de hermanos: 2\n",
      "salario familiar: 1\n",
      "recibe beca\n"
     ]
    }
   ],
   "source": [
    "#Para darle la beca a un estudiante, este debe cumplir \n",
    "#lo siguientes 2 requisitos:\n",
    "\n",
    "# 1. distancia de cole a casa > 30km\n",
    "# 2. número de hermanos > 2 \n",
    "\n",
    "# O únicamente el siguiente requisito:\n",
    "\n",
    "# 3. salario familiar <= 2500\n",
    "\n",
    "#Miguel\n",
    "x=int(input(\"distancia de cole a casa: \"))\n",
    "y=int(input(\"numero de hermanos: \"))\n",
    "z=int(input(\"salario familiar: \"))\n",
    "if x>30 and y>2 or z<=2500:\n",
    "    print(\"recibe beca\")\n",
    "else:\n",
    "    print(\"no recibe beca\")"
   ]
  },
  {
   "cell_type": "code",
   "execution_count": 16,
   "metadata": {},
   "outputs": [
    {
     "name": "stdout",
     "output_type": "stream",
     "text": [
      "False\n",
      "True\n"
     ]
    }
   ],
   "source": [
    "lista_curso=['FM1','RG','MCl','FES']\n",
    "\n",
    "print('FM' in lista_curso)\n",
    "print('RG' in lista_curso)"
   ]
  },
  {
   "cell_type": "code",
   "execution_count": 17,
   "metadata": {},
   "outputs": [
    {
     "name": "stdout",
     "output_type": "stream",
     "text": [
      "True\n",
      "False\n"
     ]
    }
   ],
   "source": [
    "palabra='LuisLoro'\n",
    "\n",
    "print('L' in palabra)\n",
    "print('l' in palabra)"
   ]
  }
 ],
 "metadata": {
  "celltoolbar": "Raw Cell Format",
  "kernelspec": {
   "display_name": "Python 3",
   "language": "python",
   "name": "python3"
  },
  "language_info": {
   "codemirror_mode": {
    "name": "ipython",
    "version": 3
   },
   "file_extension": ".py",
   "mimetype": "text/x-python",
   "name": "python",
   "nbconvert_exporter": "python",
   "pygments_lexer": "ipython3",
   "version": "3.8.3"
  }
 },
 "nbformat": 4,
 "nbformat_minor": 4
}
