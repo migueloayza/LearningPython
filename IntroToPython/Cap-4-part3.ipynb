{
 "cells": [
  {
   "cell_type": "markdown",
   "metadata": {},
   "source": [
    "### 4.6. Defining Functions"
   ]
  },
  {
   "cell_type": "code",
   "execution_count": 1,
   "metadata": {},
   "outputs": [],
   "source": [
    "#Estructura:\n",
    "# def nombre_función(<variables>):\n",
    "#     Cuerpo de la función\n",
    "#     return valor_a_retornar"
   ]
  },
  {
   "cell_type": "code",
   "execution_count": 2,
   "metadata": {},
   "outputs": [],
   "source": [
    "def f_suma(n1,n2,n3):\n",
    "    return n1+n2+n3"
   ]
  },
  {
   "cell_type": "code",
   "execution_count": 3,
   "metadata": {},
   "outputs": [
    {
     "data": {
      "text/plain": [
       "15"
      ]
     },
     "execution_count": 3,
     "metadata": {},
     "output_type": "execute_result"
    }
   ],
   "source": [
    "f_suma(4,5,6)"
   ]
  },
  {
   "cell_type": "code",
   "execution_count": 4,
   "metadata": {},
   "outputs": [],
   "source": [
    "#El print usado de forma adecuada hace lo mismo que el return\n",
    "def f_prod(num1,num2):\n",
    "    print(num1*num2)"
   ]
  },
  {
   "cell_type": "code",
   "execution_count": 5,
   "metadata": {},
   "outputs": [
    {
     "name": "stdout",
     "output_type": "stream",
     "text": [
      "36\n"
     ]
    }
   ],
   "source": [
    "f_prod(4,9)"
   ]
  },
  {
   "cell_type": "code",
   "execution_count": 6,
   "metadata": {},
   "outputs": [],
   "source": [
    "#También podemos definir funciones sin variables\n",
    "#Por ejemplo un función que imprima un mensaje conocido\n",
    "def mensaje():\n",
    "    print('''\\\n",
    "    +++++++++++\n",
    "    +         +\n",
    "    + WARNING +\n",
    "    +         +\n",
    "    +++++++++++\n",
    "    ''')"
   ]
  },
  {
   "cell_type": "code",
   "execution_count": 7,
   "metadata": {},
   "outputs": [
    {
     "name": "stdout",
     "output_type": "stream",
     "text": [
      "    +++++++++++\n",
      "    +         +\n",
      "    + WARNING +\n",
      "    +         +\n",
      "    +++++++++++\n",
      "    \n"
     ]
    }
   ],
   "source": [
    "mensaje()"
   ]
  },
  {
   "cell_type": "markdown",
   "metadata": {},
   "source": [
    "###  Ejercicio\n",
    "\n",
    "Vamos a crear un código que imprima la serie de Fibonacci hasta el número n, el cual será ingresado por el usuario.\n",
    "\n",
    "0,1,1,2,3,5,8,13,21,....\n",
    "\n",
    "Y también tendremos que imprimir un mensaje de error si el número ingresado es negativo."
   ]
  },
  {
   "cell_type": "code",
   "execution_count": 8,
   "metadata": {},
   "outputs": [
    {
     "name": "stdout",
     "output_type": "stream",
     "text": [
      "Ingresa un valor entero: 12\n",
      "0\n",
      "1\n",
      "1\n",
      "2\n",
      "3\n",
      "5\n",
      "8\n",
      "Fin\n"
     ]
    }
   ],
   "source": [
    "m=int(input('Ingresa un valor entero: '))\n",
    "\n",
    "def fibo(n):\n",
    "    if n<0:\n",
    "        print('ERROR-404-weona')\n",
    "    else:\n",
    "        i,j=0,1\n",
    "        while i<=n:\n",
    "            print(i)\n",
    "            i,j=j,i+j\n",
    "        print('Fin')\n",
    "\n",
    "fibo(m)"
   ]
  },
  {
   "cell_type": "code",
   "execution_count": 9,
   "metadata": {},
   "outputs": [
    {
     "name": "stdout",
     "output_type": "stream",
     "text": [
      "Ingresa un valor entero: 12\n"
     ]
    },
    {
     "data": {
      "text/plain": [
       "[0, 1, 1, 2, 3, 5, 8]"
      ]
     },
     "execution_count": 9,
     "metadata": {},
     "output_type": "execute_result"
    }
   ],
   "source": [
    "m=int(input('Ingresa un valor entero: '))\n",
    "l_fibo=[]\n",
    "\n",
    "def fibo(n):\n",
    "    if n<0:\n",
    "        print('ERROR-404-weona')\n",
    "    else:\n",
    "        i,j=0,1\n",
    "        while i<=n:\n",
    "            l_fibo.append(i)\n",
    "            i,j=j,i+j\n",
    "    return l_fibo\n",
    "\n",
    "fibo(m)"
   ]
  },
  {
   "cell_type": "code",
   "execution_count": 10,
   "metadata": {},
   "outputs": [
    {
     "name": "stdout",
     "output_type": "stream",
     "text": [
      "49\n"
     ]
    }
   ],
   "source": [
    "#Cuando nosotros no usamos 'return' en nuestra función\n",
    "#no pasa nada mientras usemos un print para reemplazarlo\n",
    "#de forma efectiva, es decir, para obtener el valor deseado.\n",
    "#Sin embargo, cuando usamos 'print' para imprimir la función\n",
    "#, ésta buscará el 'return', y al no encontrarlo interpretará\n",
    "#que estamos devolviendo nada, I mean, NONE.\n",
    "\n",
    "def f_prueba(n,m):\n",
    "    print(n**2+m**2+2*m*n)\n",
    "f_prueba(3,4)"
   ]
  },
  {
   "cell_type": "code",
   "execution_count": 11,
   "metadata": {
    "scrolled": true
   },
   "outputs": [
    {
     "name": "stdout",
     "output_type": "stream",
     "text": [
      "49\n",
      "None\n"
     ]
    }
   ],
   "source": [
    "print(f_prueba(3,4))"
   ]
  },
  {
   "cell_type": "markdown",
   "metadata": {},
   "source": [
    "### 4.7. More on Defining Functions\n",
    "#### 4.7.1. Default Argument Values\n",
    "\n",
    "##### Problemita para colegio\n",
    "\n",
    "$\n",
    "2x=10\n",
    "$"
   ]
  },
  {
   "cell_type": "code",
   "execution_count": 12,
   "metadata": {},
   "outputs": [
    {
     "name": "stdout",
     "output_type": "stream",
     "text": [
      "ingresa el valor de x: 3\n",
      "Intenta una vez más\n",
      "ingresa el valor de x: 4\n",
      "Intenta una vez más\n",
      "ingresa el valor de x: 6\n",
      "Muere perrx\n"
     ]
    }
   ],
   "source": [
    "#Podemos incluir variables ya definidas en nuestra función\n",
    "#res=int(input('Ingresa el valor de x: '))\n",
    "\n",
    "res=int(input('ingresa el valor de x: '))\n",
    "def valor_x(ans,veces=2,mensaje='Intenta una vez más'):\n",
    "    while veces > 0:\n",
    "        if ans==5:\n",
    "            print('Bien perrx')\n",
    "            break\n",
    "        else:\n",
    "            print(mensaje)\n",
    "            ans=int(input('ingresa el valor de x: '))\n",
    "        veces=veces-1\n",
    "    else:\n",
    "        print('Muere perrx')\n",
    "\n",
    "valor_x(res)"
   ]
  },
  {
   "cell_type": "code",
   "execution_count": 13,
   "metadata": {},
   "outputs": [
    {
     "data": {
      "text/plain": [
       "[3]"
      ]
     },
     "execution_count": 13,
     "metadata": {},
     "output_type": "execute_result"
    }
   ],
   "source": [
    "def f(a,L=[]):\n",
    "    L.append(a)\n",
    "    return L\n",
    "\n",
    "f(3)"
   ]
  },
  {
   "cell_type": "code",
   "execution_count": 14,
   "metadata": {},
   "outputs": [
    {
     "data": {
      "text/plain": [
       "[3, 5]"
      ]
     },
     "execution_count": 14,
     "metadata": {},
     "output_type": "execute_result"
    }
   ],
   "source": [
    "f(5)"
   ]
  },
  {
   "cell_type": "code",
   "execution_count": 15,
   "metadata": {},
   "outputs": [
    {
     "data": {
      "text/plain": [
       "[3, 5, 12]"
      ]
     },
     "execution_count": 15,
     "metadata": {},
     "output_type": "execute_result"
    }
   ],
   "source": [
    "f(12)"
   ]
  },
  {
   "cell_type": "code",
   "execution_count": 16,
   "metadata": {},
   "outputs": [
    {
     "data": {
      "text/plain": [
       "[3]"
      ]
     },
     "execution_count": 16,
     "metadata": {},
     "output_type": "execute_result"
    }
   ],
   "source": [
    "#En Python 'None' es usado para definir un valor nulo\n",
    "def f(a,L=None):\n",
    "    if L is None:\n",
    "        L=[]\n",
    "    L.append(a)\n",
    "    return L\n",
    "\n",
    "f(3)"
   ]
  },
  {
   "cell_type": "code",
   "execution_count": 17,
   "metadata": {},
   "outputs": [
    {
     "data": {
      "text/plain": [
       "[5]"
      ]
     },
     "execution_count": 17,
     "metadata": {},
     "output_type": "execute_result"
    }
   ],
   "source": [
    "f(5)"
   ]
  },
  {
   "cell_type": "markdown",
   "metadata": {},
   "source": [
    "#### 4.7.2. Keyword Arguments"
   ]
  },
  {
   "cell_type": "code",
   "execution_count": 18,
   "metadata": {},
   "outputs": [],
   "source": [
    "#El gusano número (ID) se convirtió\n",
    "#en una (bella/fea) (mariposa/polilla) en el día (20/30)\n",
    "\n",
    "def meta(num,tipo='bella',final='mariposa',dia='20'):\n",
    "    print(\"El gusano número\",num,\"se convirtió en una\",end=\" \")\n",
    "    print(tipo,final,\"en el día\",dia)"
   ]
  },
  {
   "cell_type": "code",
   "execution_count": 19,
   "metadata": {},
   "outputs": [
    {
     "name": "stdout",
     "output_type": "stream",
     "text": [
      "El gusano número 5 se convirtió en una bella mariposa en el día 20\n"
     ]
    }
   ],
   "source": [
    "meta(5)"
   ]
  },
  {
   "cell_type": "code",
   "execution_count": 20,
   "metadata": {},
   "outputs": [
    {
     "name": "stdout",
     "output_type": "stream",
     "text": [
      "El gusano número 38 se convirtió en una bella mariposa en el día 20\n"
     ]
    }
   ],
   "source": [
    "meta(38)"
   ]
  },
  {
   "cell_type": "code",
   "execution_count": 21,
   "metadata": {},
   "outputs": [
    {
     "name": "stdout",
     "output_type": "stream",
     "text": [
      "El gusano número 46 se convirtió en una bella mariposa en el día 20\n"
     ]
    }
   ],
   "source": [
    "meta(num=46)"
   ]
  },
  {
   "cell_type": "code",
   "execution_count": 22,
   "metadata": {},
   "outputs": [
    {
     "name": "stdout",
     "output_type": "stream",
     "text": [
      "El gusano número 5 se convirtió en una fea mariposa en el día 20\n"
     ]
    }
   ],
   "source": [
    "meta(5,tipo='fea')"
   ]
  },
  {
   "cell_type": "code",
   "execution_count": 23,
   "metadata": {},
   "outputs": [
    {
     "name": "stdout",
     "output_type": "stream",
     "text": [
      "El gusano número 4 se convirtió en una bella mariposa en el día 15\n"
     ]
    }
   ],
   "source": [
    "meta(4,dia='15')"
   ]
  },
  {
   "cell_type": "code",
   "execution_count": 24,
   "metadata": {},
   "outputs": [],
   "source": [
    "#def meta(num,tipo='bella',final='mariposa',dia='20'):"
   ]
  },
  {
   "cell_type": "code",
   "execution_count": 25,
   "metadata": {},
   "outputs": [
    {
     "name": "stdout",
     "output_type": "stream",
     "text": [
      "El gusano número 14 se convirtió en una horrible polilla en el día 32\n"
     ]
    }
   ],
   "source": [
    "meta(14,'horrible','polilla','32')"
   ]
  },
  {
   "cell_type": "code",
   "execution_count": 26,
   "metadata": {},
   "outputs": [
    {
     "name": "stdout",
     "output_type": "stream",
     "text": [
      "El gusano número 6 se convirtió en una fea mariposa en el día 20\n"
     ]
    }
   ],
   "source": [
    "meta(tipo='fea',num=6)"
   ]
  },
  {
   "cell_type": "code",
   "execution_count": 27,
   "metadata": {},
   "outputs": [
    {
     "name": "stdout",
     "output_type": "stream",
     "text": [
      "El gusano número 5.6 se convirtió en una bella mariposa en el día 20\n"
     ]
    }
   ],
   "source": [
    "meta(5.6)"
   ]
  },
  {
   "cell_type": "code",
   "execution_count": 28,
   "metadata": {
    "scrolled": true
   },
   "outputs": [
    {
     "name": "stdout",
     "output_type": "stream",
     "text": [
      "El gusano número DESCONOCIDO se convirtió en una bella mariposa en el día 20\n"
     ]
    }
   ],
   "source": [
    "#Usando strings para la variable 'num'\n",
    "meta('DESCONOCIDO')"
   ]
  },
  {
   "cell_type": "code",
   "execution_count": 29,
   "metadata": {},
   "outputs": [],
   "source": [
    "#Ejemplo de Python\n",
    "#Debemos recoerdar que primero van '*' y luego '**', no al revés\n",
    "\n",
    "def cheeseshop(kind, *arguments, **keywords):\n",
    "    print(\"-- Do you have any\", kind, \"?\")\n",
    "    print(\"-- I'm sorry, we're all out of\", kind)\n",
    "    for arg in arguments:\n",
    "        print(arg)\n",
    "    print(\"-\" * 40)\n",
    "    for kw in keywords:\n",
    "        print(kw, \":\", keywords[kw])"
   ]
  },
  {
   "cell_type": "code",
   "execution_count": 30,
   "metadata": {},
   "outputs": [
    {
     "name": "stdout",
     "output_type": "stream",
     "text": [
      "-- Do you have any Limburger ?\n",
      "-- I'm sorry, we're all out of Limburger\n",
      "It's very runny, sir.\n",
      "It's really very, VERY runny, sir.\n",
      "----------------------------------------\n",
      "shopkeeper : Michael Palin\n",
      "client : John Cleese\n",
      "sketch : Cheese Shop Sketch\n"
     ]
    }
   ],
   "source": [
    "cheeseshop(\"Limburger\", \"It's very runny, sir.\",\n",
    "           \"It's really very, VERY runny, sir.\",\n",
    "           shopkeeper=\"Michael Palin\",\n",
    "           client=\"John Cleese\",\n",
    "           sketch=\"Cheese Shop Sketch\")"
   ]
  },
  {
   "cell_type": "code",
   "execution_count": 31,
   "metadata": {},
   "outputs": [],
   "source": [
    "def mamarre(cosa,*reclamo,**protagonistas):\n",
    "    print('Profesor, ¿ya tiene mi',cosa,'?')\n",
    "    print('No, joven, aún no tengo su',cosa)\n",
    "    for i in reclamo:\n",
    "        print(i)\n",
    "    print(\"+\" * 32)\n",
    "    for i in protagonistas:\n",
    "        print(i,':',protagonistas[i])"
   ]
  },
  {
   "cell_type": "code",
   "execution_count": 32,
   "metadata": {},
   "outputs": [
    {
     "name": "stdout",
     "output_type": "stream",
     "text": [
      "Profesor, ¿ya tiene mi nota ?\n",
      "No, joven, aún no tengo su nota\n",
      "Putamare oe, weon eres no\n",
      "Profe pavo rctmr\n",
      "Vete a la mierda\n",
      "++++++++++++++++++++++++++++++++\n",
      "alumno : Ricardo\n",
      "profesor : Chachi\n"
     ]
    }
   ],
   "source": [
    "mamarre('nota','Putamare oe, weon eres no','Profe pavo rctmr',\n",
    "        'Vete a la mierda',alumno='Ricardo',profesor='Chachi')"
   ]
  },
  {
   "cell_type": "markdown",
   "metadata": {},
   "source": [
    "#### 4.7.3. Special parameters\n",
    "\n",
    "Es importante tener en cuenta la estructura del tipo de variable al elaborar la función. Como podemos notar primero van las variables de tipo posicional, es decir, aquellas que son llamadas ingresando directamente el valor a asignar a la variable, y luego se colocarán los 'keyword arguments'.\n",
    "\n",
    "```\n",
    "def f(pos1, pos2, /, pos_or_kwd, *, kwd1, kwd2):\n",
    "      -----------    ----------     ----------\n",
    "        |             |                  |\n",
    "        |        Positional or keyword   |\n",
    "        |                                - Keyword only\n",
    "         -- Positional only\n",
    "```\n",
    "         \n",
    "El uso del slash y el asterisco es opcional, por ejemplo, nosotros no lo usamos arrriba."
   ]
  },
  {
   "cell_type": "markdown",
   "metadata": {},
   "source": [
    "#### 4.7.4. Arbitrary Argument Lists"
   ]
  },
  {
   "cell_type": "code",
   "execution_count": 33,
   "metadata": {},
   "outputs": [
    {
     "name": "stdout",
     "output_type": "stream",
     "text": [
      "(5, 7, 13.5)\n"
     ]
    },
    {
     "data": {
      "text/plain": [
       "25.5"
      ]
     },
     "execution_count": 33,
     "metadata": {},
     "output_type": "execute_result"
    }
   ],
   "source": [
    "#Poniendo '*' delante de mi variable le estamos diciendo a Python\n",
    "#que voy a usar un número arbitrario de argumentos, los cuales\n",
    "#se van a agrupar formando una tupla, la cual se almacenará en\n",
    "#la variable antes mencionada.\n",
    "\n",
    "def prueba(*num):\n",
    "    print(num)\n",
    "    return sum(num)\n",
    "\n",
    "prueba(5,7,13.5)"
   ]
  },
  {
   "cell_type": "code",
   "execution_count": 34,
   "metadata": {},
   "outputs": [
    {
     "name": "stdout",
     "output_type": "stream",
     "text": [
      "('Alexis', 'Tremolada')\n",
      "Alexis Tremolada\n"
     ]
    }
   ],
   "source": [
    "#Podemos usar la función 'join()' la cual sirve para \n",
    "#concatenar strings dentro de un iterable con la finalidad de \n",
    "#formar un nuevo string.\n",
    "#Para ello usamos un separador el cual será también un string.\n",
    "#Su sintaxis es de la siguiente forma:\n",
    "\n",
    "# string_separador.join(iterable)\n",
    "\n",
    "def nombres(*name,sepa=' '):\n",
    "    print(name)\n",
    "    return sepa.join(name)\n",
    "\n",
    "print(nombres('Alexis','Tremolada'))"
   ]
  },
  {
   "cell_type": "markdown",
   "metadata": {},
   "source": [
    "#### 4.7.5. Unpacking Argument Lists"
   ]
  },
  {
   "cell_type": "code",
   "execution_count": 35,
   "metadata": {
    "scrolled": true
   },
   "outputs": [
    {
     "data": {
      "text/plain": [
       "[3, 4, 5]"
      ]
     },
     "execution_count": 35,
     "metadata": {},
     "output_type": "execute_result"
    }
   ],
   "source": [
    "list(range(3,6))"
   ]
  },
  {
   "cell_type": "code",
   "execution_count": 36,
   "metadata": {},
   "outputs": [],
   "source": [
    "arg=[2,20,3]"
   ]
  },
  {
   "cell_type": "code",
   "execution_count": 37,
   "metadata": {},
   "outputs": [
    {
     "data": {
      "text/plain": [
       "[2, 5, 8, 11, 14, 17]"
      ]
     },
     "execution_count": 37,
     "metadata": {},
     "output_type": "execute_result"
    }
   ],
   "source": [
    "list(range(*arg))"
   ]
  },
  {
   "cell_type": "code",
   "execution_count": 38,
   "metadata": {},
   "outputs": [
    {
     "name": "stdout",
     "output_type": "stream",
     "text": [
      "El gusano número 50 se convirtió en una fea polilla en el día 56\n"
     ]
    }
   ],
   "source": [
    "def meta(num,tipo='bella',final='mariposa',dia='20'):\n",
    "    print(\"El gusano número\",num,\"se convirtió en una\",end=\" \")\n",
    "    print(tipo,final,\"en el día\",dia)\n",
    "    \n",
    "d={'num':50,'tipo':'fea','final':'polilla','dia':56}\n",
    "meta(**d)"
   ]
  },
  {
   "cell_type": "markdown",
   "metadata": {},
   "source": [
    "#### 4.7.6. Lambda Expressions"
   ]
  },
  {
   "cell_type": "code",
   "execution_count": 39,
   "metadata": {},
   "outputs": [
    {
     "data": {
      "text/plain": [
       "36"
      ]
     },
     "execution_count": 39,
     "metadata": {},
     "output_type": "execute_result"
    }
   ],
   "source": [
    "r=lambda x,y,z: (x*y)**z\n",
    "r(2,3,2)"
   ]
  },
  {
   "cell_type": "code",
   "execution_count": 40,
   "metadata": {},
   "outputs": [
    {
     "data": {
      "text/plain": [
       "8"
      ]
     },
     "execution_count": 40,
     "metadata": {},
     "output_type": "execute_result"
    }
   ],
   "source": [
    "def inc(n):\n",
    "    return lambda x:x+n\n",
    "\n",
    "f=inc(5) #f=x+5---> Se define f como f=f(x)\n",
    "f(3) #f(3)=3+5"
   ]
  },
  {
   "cell_type": "code",
   "execution_count": 41,
   "metadata": {},
   "outputs": [
    {
     "data": {
      "text/plain": [
       "['conejo', 'gato', 'pangolín', 'perro']"
      ]
     },
     "execution_count": 41,
     "metadata": {},
     "output_type": "execute_result"
    }
   ],
   "source": [
    "#Aprendamos a ordenar listas de forma ascendente o descendente\n",
    "\n",
    "#Ascendente\n",
    "ani=['perro','conejo','pangolín','gato']\n",
    "ani.sort()\n",
    "ani"
   ]
  },
  {
   "cell_type": "code",
   "execution_count": 42,
   "metadata": {},
   "outputs": [
    {
     "data": {
      "text/plain": [
       "['perro', 'pangolín', 'gato', 'conejo']"
      ]
     },
     "execution_count": 42,
     "metadata": {},
     "output_type": "execute_result"
    }
   ],
   "source": [
    "#Descendente\n",
    "ani.sort(reverse=True)\n",
    "ani"
   ]
  },
  {
   "cell_type": "code",
   "execution_count": 43,
   "metadata": {},
   "outputs": [],
   "source": [
    "vocal=['a','á','e','é','i','í','o','ó','u','ú','ü']\n",
    "\n",
    "def v_cont(e):\n",
    "    n=0\n",
    "    for j in e:\n",
    "        for i in vocal:\n",
    "            if j==i:\n",
    "                n=n+1\n",
    "    return n"
   ]
  },
  {
   "cell_type": "code",
   "execution_count": 44,
   "metadata": {},
   "outputs": [
    {
     "data": {
      "text/plain": [
       "1"
      ]
     },
     "execution_count": 44,
     "metadata": {},
     "output_type": "execute_result"
    }
   ],
   "source": [
    "v_cont('lgtbi')"
   ]
  },
  {
   "cell_type": "code",
   "execution_count": 45,
   "metadata": {},
   "outputs": [
    {
     "data": {
      "text/plain": [
       "[1, 2, 2, 5]"
      ]
     },
     "execution_count": 45,
     "metadata": {},
     "output_type": "execute_result"
    }
   ],
   "source": [
    "test=[1,2,5,2]\n",
    "test.sort()\n",
    "test"
   ]
  },
  {
   "cell_type": "code",
   "execution_count": 46,
   "metadata": {
    "scrolled": true
   },
   "outputs": [
    {
     "data": {
      "text/plain": [
       "['perro', 'gato', 'pangolín', 'conejo']"
      ]
     },
     "execution_count": 46,
     "metadata": {},
     "output_type": "execute_result"
    }
   ],
   "source": [
    "ani.sort(key=v_cont)\n",
    "ani"
   ]
  },
  {
   "cell_type": "code",
   "execution_count": 47,
   "metadata": {},
   "outputs": [
    {
     "data": {
      "text/plain": [
       "['murciélago', 'camello', 'ñandú']"
      ]
     },
     "execution_count": 47,
     "metadata": {},
     "output_type": "execute_result"
    }
   ],
   "source": [
    "ani_2=['murciélago','ñandú','camello']\n",
    "ani_2.sort(reverse=True,key=v_cont)\n",
    "ani_2"
   ]
  },
  {
   "cell_type": "markdown",
   "metadata": {},
   "source": [
    "#### 4.7.7. Documentation Strings"
   ]
  },
  {
   "cell_type": "code",
   "execution_count": 48,
   "metadata": {
    "scrolled": true
   },
   "outputs": [
    {
     "name": "stdout",
     "output_type": "stream",
     "text": [
      "Ingresa un número: 4\n",
      "Ingresa un otro número: 5\n",
      "Documentación:\n",
      "    \n",
      "    A continuación calcularemos la diferencia de cuadrados\n"
     ]
    },
    {
     "data": {
      "text/plain": [
       "-9.0"
      ]
     },
     "execution_count": 48,
     "metadata": {},
     "output_type": "execute_result"
    }
   ],
   "source": [
    "m1=float(input('Ingresa un número: '))\n",
    "m2=float(input('Ingresa un otro número: '))\n",
    "\n",
    "def d_cua(n1,n2):\n",
    "    \"\"\"Documentación:\n",
    "    \n",
    "    A continuación calcularemos la diferencia de cuadrados\"\"\"\n",
    "    return n1**2-n2**2\n",
    "\n",
    "print(d_cua.__doc__)\n",
    "d_cua(m1,m2)"
   ]
  },
  {
   "cell_type": "markdown",
   "metadata": {},
   "source": [
    "MIGUELITO !!!!"
   ]
  }
 ],
 "metadata": {
  "kernelspec": {
   "display_name": "Python 3",
   "language": "python",
   "name": "python3"
  },
  "language_info": {
   "codemirror_mode": {
    "name": "ipython",
    "version": 3
   },
   "file_extension": ".py",
   "mimetype": "text/x-python",
   "name": "python",
   "nbconvert_exporter": "python",
   "pygments_lexer": "ipython3",
   "version": "3.8.3"
  }
 },
 "nbformat": 4,
 "nbformat_minor": 4
}
