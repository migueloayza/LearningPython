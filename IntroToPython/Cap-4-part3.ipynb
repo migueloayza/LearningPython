{
 "cells": [
  {
   "cell_type": "markdown",
   "metadata": {},
   "source": [
    "### 4.6. Defining Functions"
   ]
  },
  {
   "cell_type": "code",
   "execution_count": 1,
   "metadata": {},
   "outputs": [],
   "source": [
    "#Estructura:\n",
    "# def nombre_función(<variables>):\n",
    "#     Cuerpo de la función\n",
    "#     return valor_a_retornar"
   ]
  },
  {
   "cell_type": "code",
   "execution_count": 2,
   "metadata": {},
   "outputs": [],
   "source": [
    "def f_suma(n1,n2,n3):\n",
    "    return n1+n2+n3"
   ]
  },
  {
   "cell_type": "code",
   "execution_count": 3,
   "metadata": {},
   "outputs": [
    {
     "data": {
      "text/plain": [
       "15"
      ]
     },
     "execution_count": 3,
     "metadata": {},
     "output_type": "execute_result"
    }
   ],
   "source": [
    "f_suma(4,5,6)"
   ]
  },
  {
   "cell_type": "code",
   "execution_count": 4,
   "metadata": {},
   "outputs": [],
   "source": [
    "#El print usado de forma adecuada hace lo mismo que el return\n",
    "def f_prod(num1,num2):\n",
    "    print(num1*num2)"
   ]
  },
  {
   "cell_type": "code",
   "execution_count": 5,
   "metadata": {},
   "outputs": [
    {
     "name": "stdout",
     "output_type": "stream",
     "text": [
      "36\n"
     ]
    }
   ],
   "source": [
    "f_prod(4,9)"
   ]
  },
  {
   "cell_type": "code",
   "execution_count": 6,
   "metadata": {},
   "outputs": [],
   "source": [
    "#También podemos definir funciones sin variables\n",
    "#Por ejemplo un función que imprima un mensaje conocido\n",
    "def mensaje():\n",
    "    print('''\\\n",
    "    +++++++++++\n",
    "    +         +\n",
    "    + WARNING +\n",
    "    +         +\n",
    "    +++++++++++\n",
    "    ''')"
   ]
  },
  {
   "cell_type": "code",
   "execution_count": 7,
   "metadata": {},
   "outputs": [
    {
     "name": "stdout",
     "output_type": "stream",
     "text": [
      "    +++++++++++\n",
      "    +         +\n",
      "    + WARNING +\n",
      "    +         +\n",
      "    +++++++++++\n",
      "    \n"
     ]
    }
   ],
   "source": [
    "mensaje()"
   ]
  },
  {
   "cell_type": "markdown",
   "metadata": {},
   "source": [
    "###  Ejercicio\n",
    "\n",
    "Vamos a crear un código que imprima la serie de Fibonacci hasta el número n, el cual será ingresado por el usuario.\n",
    "\n",
    "0,1,1,2,3,5,8,13,21,....\n",
    "\n",
    "Y también tendremos que imprimir un mensaje de error si el número ingresado es negativo."
   ]
  },
  {
   "cell_type": "code",
   "execution_count": 8,
   "metadata": {},
   "outputs": [
    {
     "name": "stdout",
     "output_type": "stream",
     "text": [
      "Ingresa un valor entero: 63\n",
      "0\n",
      "1\n",
      "1\n",
      "2\n",
      "3\n",
      "5\n",
      "8\n",
      "13\n",
      "21\n",
      "34\n",
      "55\n",
      "Fin\n"
     ]
    }
   ],
   "source": [
    "m=int(input('Ingresa un valor entero: '))\n",
    "\n",
    "def fibo(n):\n",
    "    if n<0:\n",
    "        print('ERROR-404-weona')\n",
    "    else:\n",
    "        i,j=0,1\n",
    "        while i<=n:\n",
    "            print(i)\n",
    "            i,j=j,i+j\n",
    "        print('Fin')\n",
    "\n",
    "fibo(m)"
   ]
  },
  {
   "cell_type": "code",
   "execution_count": 9,
   "metadata": {},
   "outputs": [
    {
     "name": "stdout",
     "output_type": "stream",
     "text": [
      "Ingresa un valor entero: 22\n"
     ]
    },
    {
     "data": {
      "text/plain": [
       "[0, 1, 1, 2, 3, 5, 8, 13, 21]"
      ]
     },
     "execution_count": 9,
     "metadata": {},
     "output_type": "execute_result"
    }
   ],
   "source": [
    "m=int(input('Ingresa un valor entero: '))\n",
    "l_fibo=[]\n",
    "\n",
    "def fibo(n):\n",
    "    if n<0:\n",
    "        print('ERROR-404-weona')\n",
    "    else:\n",
    "        i,j=0,1\n",
    "        while i<=n:\n",
    "            l_fibo.append(i)\n",
    "            i,j=j,i+j\n",
    "    return l_fibo\n",
    "\n",
    "fibo(m)"
   ]
  },
  {
   "cell_type": "code",
   "execution_count": 10,
   "metadata": {},
   "outputs": [
    {
     "name": "stdout",
     "output_type": "stream",
     "text": [
      "49\n"
     ]
    }
   ],
   "source": [
    "#Cuando nosotros no usamos 'return' en nuestra función\n",
    "#no pasa nada mientras usemos un print para reemplazarlo\n",
    "#de forma efectiva, es decir, para obtener el valor deseado.\n",
    "#Sin embargo, cuando usamos 'print' para imprimir la función\n",
    "#, ésta buscará el 'return', y al no encontrarlo interpretará\n",
    "#que estamos devolviendo nada, I mean, NONE.\n",
    "\n",
    "def f_prueba(n,m):\n",
    "    print(n**2+m**2+2*m*n)\n",
    "f_prueba(3,4)"
   ]
  },
  {
   "cell_type": "code",
   "execution_count": 11,
   "metadata": {
    "scrolled": true
   },
   "outputs": [
    {
     "name": "stdout",
     "output_type": "stream",
     "text": [
      "49\n",
      "None\n"
     ]
    }
   ],
   "source": [
    "print(f_prueba(3,4))"
   ]
  },
  {
   "cell_type": "markdown",
   "metadata": {},
   "source": [
    "### Problemita para colegio"
   ]
  },
  {
   "cell_type": "markdown",
   "metadata": {},
   "source": [
    "$\n",
    "4x-5=15\n",
    "$"
   ]
  },
  {
   "cell_type": "code",
   "execution_count": null,
   "metadata": {},
   "outputs": [],
   "source": [
    "#Podemos incluir variables ya definidas en nuestra función\n",
    "\n",
    "\n",
    "def valor_x(res,veces=3,mensaje='Intenta una vez más'):\n",
    "    ans=int(input('Ingresa el valor de x: '))\n",
    "    while veces > 0:\n",
    "        if ans==5:\n",
    "            print('Bien perrx')\n",
    "            break\n",
    "        else:\n",
    "            print(mensaje)\n",
    "            veces=veces-1\n",
    "    else:\n",
    "        print('Muere perrx')\n",
    "        \n",
    "valor_x(res)\n"
   ]
  },
  {
   "cell_type": "code",
   "execution_count": null,
   "metadata": {},
   "outputs": [],
   "source": []
  }
 ],
 "metadata": {
  "kernelspec": {
   "display_name": "Python 3",
   "language": "python",
   "name": "python3"
  },
  "language_info": {
   "codemirror_mode": {
    "name": "ipython",
    "version": 3
   },
   "file_extension": ".py",
   "mimetype": "text/x-python",
   "name": "python",
   "nbconvert_exporter": "python",
   "pygments_lexer": "ipython3",
   "version": "3.8.3"
  }
 },
 "nbformat": 4,
 "nbformat_minor": 4
}
