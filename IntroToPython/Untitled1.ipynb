{
 "cells": [
  {
   "cell_type": "code",
   "execution_count": 2,
   "metadata": {
    "scrolled": false
   },
   "outputs": [
    {
     "name": "stdout",
     "output_type": "stream",
     "text": [
      "distancia de cole a casa: 30\n",
      "numero de hermanos: 2\n",
      "salario familiar: 1\n",
      "no recibe beca\n"
     ]
    }
   ],
   "source": [
    "x=int(input(\"distancia de cole a casa: \"))\n",
    "y=int(input(\"numero de hermanos: \"))\n",
    "z=int(input(\"salario familiar: \"))\n",
    "\n",
    "if x>30 and y>2 and z<=2500:\n",
    "    print(\"recibe beca\")\n",
    "else:\n",
    "    print(\"no recibe beca\")"
   ]
  },
  {
   "cell_type": "code",
   "execution_count": 3,
   "metadata": {},
   "outputs": [
    {
     "name": "stdout",
     "output_type": "stream",
     "text": [
      "distancia de cole a casa: 1300\n",
      "numero de hermanos: 1\n",
      "salario familiar: 20\n",
      "recibe beca\n"
     ]
    }
   ],
   "source": [
    "x=int(input(\"distancia de cole a casa: \"))\n",
    "y=int(input(\"numero de hermanos: \"))\n",
    "z=int(input(\"salario familiar: \"))\n",
    "if x>30 and y>2 or z<=2500:\n",
    "    print(\"recibe beca\")\n",
    "else:\n",
    "    print(\"no recibe beca\")"
   ]
  },
  {
   "cell_type": "code",
   "execution_count": 31,
   "metadata": {},
   "outputs": [
    {
     "ename": "SyntaxError",
     "evalue": "invalid syntax (<ipython-input-31-a460051f0c48>, line 3)",
     "output_type": "error",
     "traceback": [
      "\u001b[1;36m  File \u001b[1;32m\"<ipython-input-31-a460051f0c48>\"\u001b[1;36m, line \u001b[1;32m3\u001b[0m\n\u001b[1;33m    for i in x:\u001b[0m\n\u001b[1;37m              ^\u001b[0m\n\u001b[1;31mSyntaxError\u001b[0m\u001b[1;31m:\u001b[0m invalid syntax\n"
     ]
    }
   ],
   "source": [
    "x=int(input(\"ingresar numero: \"))\n",
    "y=[1,2,3,4,5,6,7,8,9]\n",
    "for i in x:\n",
    "    \n"
   ]
  },
  {
   "cell_type": "code",
   "execution_count": null,
   "metadata": {},
   "outputs": [],
   "source": []
  }
 ],
 "metadata": {
  "kernelspec": {
   "display_name": "Python 3",
   "language": "python",
   "name": "python3"
  },
  "language_info": {
   "codemirror_mode": {
    "name": "ipython",
    "version": 3
   },
   "file_extension": ".py",
   "mimetype": "text/x-python",
   "name": "python",
   "nbconvert_exporter": "python",
   "pygments_lexer": "ipython3",
   "version": "3.8.3"
  }
 },
 "nbformat": 4,
 "nbformat_minor": 4
}
