{
 "cells": [
  {
   "cell_type": "code",
   "execution_count": 9,
   "metadata": {},
   "outputs": [
    {
     "name": "stdout",
     "output_type": "stream",
     "text": [
      "profesor, buenos dias, ya tiene mi nota terminado?\n",
      "Joven, aun falta, pero si me da el culo lo hago a la brevedad\n",
      ".i..i..i..i..i..i..i..i..i..i..i..i..i..i..i..i..i..i..i..i.\n",
      "profe : sthy\n",
      "estudiante : bruno\n"
     ]
    }
   ],
   "source": [
    "def mameada_astral(pedido,*algo,**el_69):\n",
    "    print(\"profesor, buenos dias, ya tiene mi\", pedido,\"terminado?\")\n",
    "    print(\"Joven, aun falta, pero si me da\",algo, \"lo hago a la brevedad\")\n",
    "    print(\"pero si te apena, me puedes dar\",algo)   \n",
    "    print(\".i.\" *20)\n",
    "    for i in el_69:\n",
    "        print(i,\":\",el_69[i])\n",
    "mameada_astral(\"nota\",\"el culo\",profe=\"sthy\",estudiante=\"bruno\")\n"
   ]
  }
 ],
 "metadata": {
  "kernelspec": {
   "display_name": "Python 3",
   "language": "python",
   "name": "python3"
  },
  "language_info": {
   "codemirror_mode": {
    "name": "ipython",
    "version": 3
   },
   "file_extension": ".py",
   "mimetype": "text/x-python",
   "name": "python",
   "nbconvert_exporter": "python",
   "pygments_lexer": "ipython3",
   "version": "3.8.3"
  }
 },
 "nbformat": 4,
 "nbformat_minor": 4
}
